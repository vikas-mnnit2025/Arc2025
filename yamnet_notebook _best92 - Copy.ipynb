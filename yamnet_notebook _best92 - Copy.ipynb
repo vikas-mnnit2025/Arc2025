{
 "cells": [
  {
   "cell_type": "code",
   "execution_count": 40,
   "id": "af710b04-e459-4e90-8c07-aa5da7fb5e29",
   "metadata": {},
   "outputs": [],
   "source": [
    "import numpy as np\n",
    "import tensorflow as tf\n",
    "import soundfile as sf\n",
    "import resampy\n",
    "import librosa\n",
    "import tensorflow.keras.backend as K\n",
    "import spec_augment\n",
    "import keras.backend as K\n",
    "import yamnet as yamnet_model\n",
    "import params as yamnet_params\n",
    "import os\n",
    "from sklearn.preprocessing import LabelEncoder\n",
    "from tqdm import tqdm\n",
    "from tensorflow.keras.utils import to_categorical\n",
    "from sklearn.model_selection import train_test_split\n",
    "# from tensorflow.keras.models import Model\n",
    "from tensorflow.keras.models import load_model\n",
    "import yamnet as yamnet_model\n",
    "import params as yamnet_params\n",
    "from sklearn.metrics import classification_report\n",
    "from sklearn import metrics\n",
    "import matplotlib.pyplot as plt\n",
    "from audiomentations import Compose, AddBackgroundNoise, TimeStretch, PitchShift, Shift, AddGaussianNoise\n",
    "import random"
   ]
  },
  {
   "cell_type": "code",
   "execution_count": 41,
   "id": "bbd3bb9f-247e-4333-b22a-d07d2c87737b",
   "metadata": {},
   "outputs": [],
   "source": [
    "def load_finetunable_yamnet():\n",
    "    params = yamnet_params.Params()\n",
    "    model = yamnet_model.yamnet_frames_model(params)\n",
    "    model.load_weights('yamnet.h5')  # download: https://storage.googleapis.com/audioset/yamnet.h5\n",
    "\n",
    "    for layer in model.layers[-20:]:\n",
    "        layer.trainable = True\n",
    "    return model\n"
   ]
  },
  {
   "cell_type": "code",
   "execution_count": 42,
   "id": "b78565ab-9f75-4b6e-996f-cbf36419d384",
   "metadata": {},
   "outputs": [],
   "source": [
    "# def augment_audio(audio, sr):\n",
    "#     if np.random.rand() < 0.5:\n",
    "#         audio = librosa.effects.pitch_shift(y=audio, sr=sr, n_steps=np.random.randint(-2, 3))\n",
    "#     if np.random.rand() < 0.5:\n",
    "#         audio = librosa.effects.time_stretch(y=audio, rate=np.random.uniform(0.8, 1.2))\n",
    "#     if np.random.rand() < 0.5:\n",
    "#         noise = 0.005 * np.random.randn(len(audio))\n",
    "#         audio = audio + noise\n",
    "#     return np.clip(audio, -1.0, 1.0)\n",
    "\n",
    "from audiomentations import Compose, AddGaussianNoise, TimeStretch, PitchShift, Shift, Gain\n",
    "\n",
    "augment = Compose([\n",
    "    AddGaussianNoise(min_amplitude=0.001, max_amplitude=0.015, p=0.5),\n",
    "    TimeStretch(min_rate=0.8, max_rate=1.2, p=0.5),\n",
    "    PitchShift(min_semitones=-4, max_semitones=4, p=0.5),\n",
    "    Shift(min_shift=-0.5, max_shift=0.5, p=0.5),\n",
    "    Gain(min_gain_db=-6, max_gain_db=6, p=0.5)\n",
    "])\n",
    "\n",
    "# from audiomentations import Compose, AddGaussianNoise, TimeStretch, PitchShift, Shift, Gain, ClippingDistortion, PolarityInversion\n",
    "\n",
    "# augment = Compose([\n",
    "#     AddGaussianNoise(min_amplitude=0.001, max_amplitude=0.015, p=0.5),\n",
    "#     TimeStretch(min_rate=0.85, max_rate=1.15, p=0.5),\n",
    "#     PitchShift(min_semitones=-3, max_semitones=3, p=0.5),\n",
    "#     Shift(min_shift=-0.2, max_shift=0.2, p=0.5),\n",
    "#     Gain(min_gain_db=-6, max_gain_db=6, p=0.5),\n",
    "#     ClippingDistortion(min_percentile_threshold=0, max_percentile_threshold=30, p=0.4),  # Random distortion\n",
    "#     PolarityInversion(p=0.3),  # Flip signal polarity\n",
    "# ])\n",
    "# Function to apply SpecAugment\n",
    "# def apply_specaugment(mel_spec):\n",
    "#     mel_spec = np.expand_dims(mel_spec, axis=0)  # Add batch dimension\n",
    "#     mel_spec = tf.convert_to_tensor(mel_spec, dtype=tf.float32)\n",
    "\n",
    "#     # Apply SpecAugment\n",
    "#     augmented_mel_spec = spec_augment.augment(mel_spec)\n",
    "\n",
    "#     return augmented_mel_spec.numpy().squeeze()  # Remove batch dimension\n",
    "\n",
    "def apply_specaugment(mel_spec, time_mask_param=10, freq_mask_param=8):\n",
    "    mel = mel_spec.copy()\n",
    "    num_mel_channels, num_time_steps = mel.shape\n",
    "\n",
    "    # Time mask\n",
    "    t = np.random.randint(0, time_mask_param)\n",
    "    t0 = np.random.randint(0, max(1, num_time_steps - t))\n",
    "    mel[:, t0:t0 + t] = 0\n",
    "\n",
    "    # Frequency mask\n",
    "    f = np.random.randint(0, freq_mask_param)\n",
    "    f0 = np.random.randint(0, max(1, num_mel_channels - f))\n",
    "    mel[f0:f0 + f, :] = 0\n",
    "\n",
    "    return mel\n",
    "\n",
    "\n",
    "def augment_audio(audio, sr):\n",
    "    audio = augment(samples=audio, sample_rate=sr)\n",
    "    return np.clip(audio, -1.0, 1.0)\n"
   ]
  },
  {
   "cell_type": "code",
   "execution_count": 4,
   "id": "87ec7184-e93f-4fcb-b9d8-efba53a562b1",
   "metadata": {},
   "outputs": [],
   "source": [
    "# def extract_features_finetuned(yamnet, audio_path, sample_rate=16000):\n",
    "#     # try:\n",
    "#         y, sr = librosa.load(audio_path, sr=sample_rate)\n",
    "#         y = augment_audio(y, sr)  # <—— AUGMENTED HERE\n",
    "\n",
    "#         waveform = tf.convert_to_tensor(y, dtype=tf.float32)\n",
    "#         waveform = tf.reshape(waveform, [-1])\n",
    "\n",
    "#         _, embeddings, _ = yamnet(waveform)\n",
    "#         avg_embedding = tf.reduce_mean(embeddings, axis=0).numpy()  # (1024,)\n",
    "\n",
    "#         mel_spec = librosa.feature.melspectrogram(y=y, sr=sr, n_mels=40)\n",
    "#         mel_spec_db = librosa.power_to_db(mel_spec, ref=np.max)\n",
    "#         mel_spec_flat = np.mean(mel_spec_db, axis=1)  # (40,)\n",
    "\n",
    "#         return np.concatenate([avg_embedding, mel_spec_flat])  # (1064,)\n",
    "def extract_features_finetuned(yamnet, audio_path, sample_rate=16000, use_specaugment=True):\n",
    "    y, sr = librosa.load(audio_path, sr=sample_rate)\n",
    "    y = augment_audio(y, sr)  # Apply other augmentations like time stretch, pitch shift\n",
    "\n",
    "    waveform = tf.convert_to_tensor(y, dtype=tf.float32)\n",
    "    waveform = tf.reshape(waveform, [-1])\n",
    "\n",
    "    # Get YAMNet embeddings\n",
    "    _, embeddings, _ = yamnet(waveform)\n",
    "    avg_embedding = tf.reduce_mean(embeddings, axis=0).numpy()  # (1024,)\n",
    "\n",
    "    # Create Mel-spectrogram\n",
    "    mel_spec = librosa.feature.melspectrogram(y=y, sr=sr, n_mels=40)\n",
    "    mel_spec_db = librosa.power_to_db(mel_spec, ref=np.max)\n",
    "\n",
    "    # Apply SpecAugment during training (not for validation/test)\n",
    "    if use_specaugment:\n",
    "        mel_spec_db = apply_specaugment(mel_spec_db)\n",
    "\n",
    "    mel_spec_flat = np.mean(mel_spec_db, axis=1)  # (40,)\n",
    "    \n",
    "    return np.concatenate([avg_embedding, mel_spec_flat])  # Concatenate YAMNet embeddings with Mel-spectrogram features\n"
   ]
  },
  {
   "cell_type": "code",
   "execution_count": 5,
   "id": "e7f00f1a-5c3e-48ba-841c-9f47b8c9a199",
   "metadata": {},
   "outputs": [],
   "source": [
    "def extract_features_from_folder(base_path):\n",
    "    X, y = [], []\n",
    "    yamnet = load_finetunable_yamnet()\n",
    "\n",
    "    label_encoder = LabelEncoder()\n",
    "    all_labels = sorted(os.listdir(base_path))  # e.g., ['child_danger', 'normal', 'woman_danger']\n",
    "    label_encoder.fit(all_labels)\n",
    "\n",
    "    for label in tqdm(all_labels, desc=\"Processing folders\"):\n",
    "        folder_path = os.path.join(base_path, label)\n",
    "        for file in os.listdir(folder_path):\n",
    "            if file.endswith(\".wav\"):\n",
    "                file_path = os.path.join(folder_path, file)\n",
    "                features = extract_features_finetuned(yamnet, file_path)\n",
    "                # features = extract_features_finetuned(yamnet, file_path, augment_audio=True)\n",
    "                if features is not None:\n",
    "                    X.append(features)\n",
    "                    y.append(label)\n",
    "\n",
    "    X = np.array(X)\n",
    "    y = label_encoder.transform(y)\n",
    "    return X, y, label_encoder\n"
   ]
  },
  {
   "cell_type": "code",
   "execution_count": null,
   "id": "c0effaca-acc4-4f44-81df-567f5584ace2",
   "metadata": {},
   "outputs": [
    {
     "name": "stdout",
     "output_type": "stream",
     "text": [
      "WARNING:tensorflow:From C:\\Users\\Vishal Kumar Patel\\AppData\\Local\\Programs\\Python\\Python312\\Lib\\site-packages\\tf_keras\\src\\backend.py:1400: The name tf.executing_eagerly_outside_functions is deprecated. Please use tf.compat.v1.executing_eagerly_outside_functions instead.\n",
      "\n",
      "WARNING:tensorflow:From C:\\Users\\Vishal Kumar Patel\\AppData\\Local\\Programs\\Python\\Python312\\Lib\\site-packages\\tf_keras\\src\\layers\\normalization\\batch_normalization.py:979: The name tf.nn.fused_batch_norm is deprecated. Please use tf.compat.v1.nn.fused_batch_norm instead.\n",
      "\n"
     ]
    },
    {
     "name": "stderr",
     "output_type": "stream",
     "text": [
      "Processing folders:   0%|                                                                        | 0/2 [00:00<?, ?it/s]"
     ]
    }
   ],
   "source": [
    "X, y, label_encoder = extract_features_from_folder(r'C:\\Users\\Vishal Kumar Patel\\Desktop\\Yamnetmodelproject\\data\\train')\n",
    "print(\"Feature shape:\", X.shape)\n",
    "print(\"Label shape:\", y.shape)\n",
    "print(\"Classes:\", label_encoder.classes_) \n",
    "np.save(\"X_embeddings_augmented.npy\", X)\n",
    "np.save(\"y_labels_augmented.npy\", y)"
   ]
  },
  {
   "cell_type": "code",
   "execution_count": 45,
   "id": "070e0c83-fd57-4695-bf47-7efeada7c9eb",
   "metadata": {},
   "outputs": [],
   "source": [
    "\n",
    "# Load embeddings and labels from saved files\n",
    "X = np.load(\"X_embeddings_augmented.npy\")  # shape: (n_samples, 1024)\n",
    "y = np.load(\"y_labels_augmented.npy\")      # shape: (n_samples,)\n"
   ]
  },
  {
   "cell_type": "code",
   "execution_count": 46,
   "id": "37e6889f-d103-4902-82e7-1fcbdad37d27",
   "metadata": {},
   "outputs": [
    {
     "data": {
      "text/html": [
       "<pre style=\"white-space:pre;overflow-x:auto;line-height:normal;font-family:Menlo,'DejaVu Sans Mono',consolas,'Courier New',monospace\"><span style=\"font-weight: bold\">Model: \"functional_19\"</span>\n",
       "</pre>\n"
      ],
      "text/plain": [
       "\u001b[1mModel: \"functional_19\"\u001b[0m\n"
      ]
     },
     "metadata": {},
     "output_type": "display_data"
    },
    {
     "data": {
      "text/html": [
       "<pre style=\"white-space:pre;overflow-x:auto;line-height:normal;font-family:Menlo,'DejaVu Sans Mono',consolas,'Courier New',monospace\">┏━━━━━━━━━━━━━━━━━━━━━━━━━━━━━━━┳━━━━━━━━━━━━━━━━━━━━━━━━━━━┳━━━━━━━━━━━━━━━━━┳━━━━━━━━━━━━━━━━━━━━━━━━━━━━┓\n",
       "┃<span style=\"font-weight: bold\"> Layer (type)                  </span>┃<span style=\"font-weight: bold\"> Output Shape              </span>┃<span style=\"font-weight: bold\">         Param # </span>┃<span style=\"font-weight: bold\"> Connected to               </span>┃\n",
       "┡━━━━━━━━━━━━━━━━━━━━━━━━━━━━━━━╇━━━━━━━━━━━━━━━━━━━━━━━━━━━╇━━━━━━━━━━━━━━━━━╇━━━━━━━━━━━━━━━━━━━━━━━━━━━━┩\n",
       "│ input_layer_20 (<span style=\"color: #0087ff; text-decoration-color: #0087ff\">InputLayer</span>)   │ (<span style=\"color: #00d7ff; text-decoration-color: #00d7ff\">None</span>, <span style=\"color: #00af00; text-decoration-color: #00af00\">1</span>, <span style=\"color: #00af00; text-decoration-color: #00af00\">1064</span>)           │               <span style=\"color: #00af00; text-decoration-color: #00af00\">0</span> │ -                          │\n",
       "├───────────────────────────────┼───────────────────────────┼─────────────────┼────────────────────────────┤\n",
       "│ bidirectional_20              │ (<span style=\"color: #00d7ff; text-decoration-color: #00d7ff\">None</span>, <span style=\"color: #00af00; text-decoration-color: #00af00\">1</span>, <span style=\"color: #00af00; text-decoration-color: #00af00\">256</span>)            │       <span style=\"color: #00af00; text-decoration-color: #00af00\">1,221,632</span> │ input_layer_20[<span style=\"color: #00af00; text-decoration-color: #00af00\">0</span>][<span style=\"color: #00af00; text-decoration-color: #00af00\">0</span>]       │\n",
       "│ (<span style=\"color: #0087ff; text-decoration-color: #0087ff\">Bidirectional</span>)               │                           │                 │                            │\n",
       "├───────────────────────────────┼───────────────────────────┼─────────────────┼────────────────────────────┤\n",
       "│ batch_normalization_39        │ (<span style=\"color: #00d7ff; text-decoration-color: #00d7ff\">None</span>, <span style=\"color: #00af00; text-decoration-color: #00af00\">1</span>, <span style=\"color: #00af00; text-decoration-color: #00af00\">256</span>)            │           <span style=\"color: #00af00; text-decoration-color: #00af00\">1,024</span> │ bidirectional_20[<span style=\"color: #00af00; text-decoration-color: #00af00\">0</span>][<span style=\"color: #00af00; text-decoration-color: #00af00\">0</span>]     │\n",
       "│ (<span style=\"color: #0087ff; text-decoration-color: #0087ff\">BatchNormalization</span>)          │                           │                 │                            │\n",
       "├───────────────────────────────┼───────────────────────────┼─────────────────┼────────────────────────────┤\n",
       "│ dropout_39 (<span style=\"color: #0087ff; text-decoration-color: #0087ff\">Dropout</span>)          │ (<span style=\"color: #00d7ff; text-decoration-color: #00d7ff\">None</span>, <span style=\"color: #00af00; text-decoration-color: #00af00\">1</span>, <span style=\"color: #00af00; text-decoration-color: #00af00\">256</span>)            │               <span style=\"color: #00af00; text-decoration-color: #00af00\">0</span> │ batch_normalization_39[<span style=\"color: #00af00; text-decoration-color: #00af00\">0</span>]… │\n",
       "├───────────────────────────────┼───────────────────────────┼─────────────────┼────────────────────────────┤\n",
       "│ dense_58 (<span style=\"color: #0087ff; text-decoration-color: #0087ff\">Dense</span>)              │ (<span style=\"color: #00d7ff; text-decoration-color: #00d7ff\">None</span>, <span style=\"color: #00af00; text-decoration-color: #00af00\">1</span>, <span style=\"color: #00af00; text-decoration-color: #00af00\">1</span>)              │             <span style=\"color: #00af00; text-decoration-color: #00af00\">257</span> │ dropout_39[<span style=\"color: #00af00; text-decoration-color: #00af00\">0</span>][<span style=\"color: #00af00; text-decoration-color: #00af00\">0</span>]           │\n",
       "├───────────────────────────────┼───────────────────────────┼─────────────────┼────────────────────────────┤\n",
       "│ activation_20 (<span style=\"color: #0087ff; text-decoration-color: #0087ff\">Activation</span>)    │ (<span style=\"color: #00d7ff; text-decoration-color: #00d7ff\">None</span>, <span style=\"color: #00af00; text-decoration-color: #00af00\">1</span>, <span style=\"color: #00af00; text-decoration-color: #00af00\">1</span>)              │               <span style=\"color: #00af00; text-decoration-color: #00af00\">0</span> │ dense_58[<span style=\"color: #00af00; text-decoration-color: #00af00\">0</span>][<span style=\"color: #00af00; text-decoration-color: #00af00\">0</span>]             │\n",
       "├───────────────────────────────┼───────────────────────────┼─────────────────┼────────────────────────────┤\n",
       "│ multiply_20 (<span style=\"color: #0087ff; text-decoration-color: #0087ff\">Multiply</span>)        │ (<span style=\"color: #00d7ff; text-decoration-color: #00d7ff\">None</span>, <span style=\"color: #00af00; text-decoration-color: #00af00\">1</span>, <span style=\"color: #00af00; text-decoration-color: #00af00\">256</span>)            │               <span style=\"color: #00af00; text-decoration-color: #00af00\">0</span> │ dropout_39[<span style=\"color: #00af00; text-decoration-color: #00af00\">0</span>][<span style=\"color: #00af00; text-decoration-color: #00af00\">0</span>],          │\n",
       "│                               │                           │                 │ activation_20[<span style=\"color: #00af00; text-decoration-color: #00af00\">0</span>][<span style=\"color: #00af00; text-decoration-color: #00af00\">0</span>]        │\n",
       "├───────────────────────────────┼───────────────────────────┼─────────────────┼────────────────────────────┤\n",
       "│ lambda_2 (<span style=\"color: #0087ff; text-decoration-color: #0087ff\">Lambda</span>)             │ (<span style=\"color: #00d7ff; text-decoration-color: #00d7ff\">None</span>, <span style=\"color: #00af00; text-decoration-color: #00af00\">256</span>)               │               <span style=\"color: #00af00; text-decoration-color: #00af00\">0</span> │ multiply_20[<span style=\"color: #00af00; text-decoration-color: #00af00\">0</span>][<span style=\"color: #00af00; text-decoration-color: #00af00\">0</span>]          │\n",
       "├───────────────────────────────┼───────────────────────────┼─────────────────┼────────────────────────────┤\n",
       "│ flatten_19 (<span style=\"color: #0087ff; text-decoration-color: #0087ff\">Flatten</span>)          │ (<span style=\"color: #00d7ff; text-decoration-color: #00d7ff\">None</span>, <span style=\"color: #00af00; text-decoration-color: #00af00\">256</span>)               │               <span style=\"color: #00af00; text-decoration-color: #00af00\">0</span> │ lambda_2[<span style=\"color: #00af00; text-decoration-color: #00af00\">0</span>][<span style=\"color: #00af00; text-decoration-color: #00af00\">0</span>]             │\n",
       "├───────────────────────────────┼───────────────────────────┼─────────────────┼────────────────────────────┤\n",
       "│ dense_59 (<span style=\"color: #0087ff; text-decoration-color: #0087ff\">Dense</span>)              │ (<span style=\"color: #00d7ff; text-decoration-color: #00d7ff\">None</span>, <span style=\"color: #00af00; text-decoration-color: #00af00\">128</span>)               │          <span style=\"color: #00af00; text-decoration-color: #00af00\">32,896</span> │ flatten_19[<span style=\"color: #00af00; text-decoration-color: #00af00\">0</span>][<span style=\"color: #00af00; text-decoration-color: #00af00\">0</span>]           │\n",
       "├───────────────────────────────┼───────────────────────────┼─────────────────┼────────────────────────────┤\n",
       "│ batch_normalization_40        │ (<span style=\"color: #00d7ff; text-decoration-color: #00d7ff\">None</span>, <span style=\"color: #00af00; text-decoration-color: #00af00\">128</span>)               │             <span style=\"color: #00af00; text-decoration-color: #00af00\">512</span> │ dense_59[<span style=\"color: #00af00; text-decoration-color: #00af00\">0</span>][<span style=\"color: #00af00; text-decoration-color: #00af00\">0</span>]             │\n",
       "│ (<span style=\"color: #0087ff; text-decoration-color: #0087ff\">BatchNormalization</span>)          │                           │                 │                            │\n",
       "├───────────────────────────────┼───────────────────────────┼─────────────────┼────────────────────────────┤\n",
       "│ dropout_40 (<span style=\"color: #0087ff; text-decoration-color: #0087ff\">Dropout</span>)          │ (<span style=\"color: #00d7ff; text-decoration-color: #00d7ff\">None</span>, <span style=\"color: #00af00; text-decoration-color: #00af00\">128</span>)               │               <span style=\"color: #00af00; text-decoration-color: #00af00\">0</span> │ batch_normalization_40[<span style=\"color: #00af00; text-decoration-color: #00af00\">0</span>]… │\n",
       "├───────────────────────────────┼───────────────────────────┼─────────────────┼────────────────────────────┤\n",
       "│ dense_60 (<span style=\"color: #0087ff; text-decoration-color: #0087ff\">Dense</span>)              │ (<span style=\"color: #00d7ff; text-decoration-color: #00d7ff\">None</span>, <span style=\"color: #00af00; text-decoration-color: #00af00\">2</span>)                 │             <span style=\"color: #00af00; text-decoration-color: #00af00\">258</span> │ dropout_40[<span style=\"color: #00af00; text-decoration-color: #00af00\">0</span>][<span style=\"color: #00af00; text-decoration-color: #00af00\">0</span>]           │\n",
       "└───────────────────────────────┴───────────────────────────┴─────────────────┴────────────────────────────┘\n",
       "</pre>\n"
      ],
      "text/plain": [
       "┏━━━━━━━━━━━━━━━━━━━━━━━━━━━━━━━┳━━━━━━━━━━━━━━━━━━━━━━━━━━━┳━━━━━━━━━━━━━━━━━┳━━━━━━━━━━━━━━━━━━━━━━━━━━━━┓\n",
       "┃\u001b[1m \u001b[0m\u001b[1mLayer (type)                 \u001b[0m\u001b[1m \u001b[0m┃\u001b[1m \u001b[0m\u001b[1mOutput Shape             \u001b[0m\u001b[1m \u001b[0m┃\u001b[1m \u001b[0m\u001b[1m        Param #\u001b[0m\u001b[1m \u001b[0m┃\u001b[1m \u001b[0m\u001b[1mConnected to              \u001b[0m\u001b[1m \u001b[0m┃\n",
       "┡━━━━━━━━━━━━━━━━━━━━━━━━━━━━━━━╇━━━━━━━━━━━━━━━━━━━━━━━━━━━╇━━━━━━━━━━━━━━━━━╇━━━━━━━━━━━━━━━━━━━━━━━━━━━━┩\n",
       "│ input_layer_20 (\u001b[38;5;33mInputLayer\u001b[0m)   │ (\u001b[38;5;45mNone\u001b[0m, \u001b[38;5;34m1\u001b[0m, \u001b[38;5;34m1064\u001b[0m)           │               \u001b[38;5;34m0\u001b[0m │ -                          │\n",
       "├───────────────────────────────┼───────────────────────────┼─────────────────┼────────────────────────────┤\n",
       "│ bidirectional_20              │ (\u001b[38;5;45mNone\u001b[0m, \u001b[38;5;34m1\u001b[0m, \u001b[38;5;34m256\u001b[0m)            │       \u001b[38;5;34m1,221,632\u001b[0m │ input_layer_20[\u001b[38;5;34m0\u001b[0m][\u001b[38;5;34m0\u001b[0m]       │\n",
       "│ (\u001b[38;5;33mBidirectional\u001b[0m)               │                           │                 │                            │\n",
       "├───────────────────────────────┼───────────────────────────┼─────────────────┼────────────────────────────┤\n",
       "│ batch_normalization_39        │ (\u001b[38;5;45mNone\u001b[0m, \u001b[38;5;34m1\u001b[0m, \u001b[38;5;34m256\u001b[0m)            │           \u001b[38;5;34m1,024\u001b[0m │ bidirectional_20[\u001b[38;5;34m0\u001b[0m][\u001b[38;5;34m0\u001b[0m]     │\n",
       "│ (\u001b[38;5;33mBatchNormalization\u001b[0m)          │                           │                 │                            │\n",
       "├───────────────────────────────┼───────────────────────────┼─────────────────┼────────────────────────────┤\n",
       "│ dropout_39 (\u001b[38;5;33mDropout\u001b[0m)          │ (\u001b[38;5;45mNone\u001b[0m, \u001b[38;5;34m1\u001b[0m, \u001b[38;5;34m256\u001b[0m)            │               \u001b[38;5;34m0\u001b[0m │ batch_normalization_39[\u001b[38;5;34m0\u001b[0m]… │\n",
       "├───────────────────────────────┼───────────────────────────┼─────────────────┼────────────────────────────┤\n",
       "│ dense_58 (\u001b[38;5;33mDense\u001b[0m)              │ (\u001b[38;5;45mNone\u001b[0m, \u001b[38;5;34m1\u001b[0m, \u001b[38;5;34m1\u001b[0m)              │             \u001b[38;5;34m257\u001b[0m │ dropout_39[\u001b[38;5;34m0\u001b[0m][\u001b[38;5;34m0\u001b[0m]           │\n",
       "├───────────────────────────────┼───────────────────────────┼─────────────────┼────────────────────────────┤\n",
       "│ activation_20 (\u001b[38;5;33mActivation\u001b[0m)    │ (\u001b[38;5;45mNone\u001b[0m, \u001b[38;5;34m1\u001b[0m, \u001b[38;5;34m1\u001b[0m)              │               \u001b[38;5;34m0\u001b[0m │ dense_58[\u001b[38;5;34m0\u001b[0m][\u001b[38;5;34m0\u001b[0m]             │\n",
       "├───────────────────────────────┼───────────────────────────┼─────────────────┼────────────────────────────┤\n",
       "│ multiply_20 (\u001b[38;5;33mMultiply\u001b[0m)        │ (\u001b[38;5;45mNone\u001b[0m, \u001b[38;5;34m1\u001b[0m, \u001b[38;5;34m256\u001b[0m)            │               \u001b[38;5;34m0\u001b[0m │ dropout_39[\u001b[38;5;34m0\u001b[0m][\u001b[38;5;34m0\u001b[0m],          │\n",
       "│                               │                           │                 │ activation_20[\u001b[38;5;34m0\u001b[0m][\u001b[38;5;34m0\u001b[0m]        │\n",
       "├───────────────────────────────┼───────────────────────────┼─────────────────┼────────────────────────────┤\n",
       "│ lambda_2 (\u001b[38;5;33mLambda\u001b[0m)             │ (\u001b[38;5;45mNone\u001b[0m, \u001b[38;5;34m256\u001b[0m)               │               \u001b[38;5;34m0\u001b[0m │ multiply_20[\u001b[38;5;34m0\u001b[0m][\u001b[38;5;34m0\u001b[0m]          │\n",
       "├───────────────────────────────┼───────────────────────────┼─────────────────┼────────────────────────────┤\n",
       "│ flatten_19 (\u001b[38;5;33mFlatten\u001b[0m)          │ (\u001b[38;5;45mNone\u001b[0m, \u001b[38;5;34m256\u001b[0m)               │               \u001b[38;5;34m0\u001b[0m │ lambda_2[\u001b[38;5;34m0\u001b[0m][\u001b[38;5;34m0\u001b[0m]             │\n",
       "├───────────────────────────────┼───────────────────────────┼─────────────────┼────────────────────────────┤\n",
       "│ dense_59 (\u001b[38;5;33mDense\u001b[0m)              │ (\u001b[38;5;45mNone\u001b[0m, \u001b[38;5;34m128\u001b[0m)               │          \u001b[38;5;34m32,896\u001b[0m │ flatten_19[\u001b[38;5;34m0\u001b[0m][\u001b[38;5;34m0\u001b[0m]           │\n",
       "├───────────────────────────────┼───────────────────────────┼─────────────────┼────────────────────────────┤\n",
       "│ batch_normalization_40        │ (\u001b[38;5;45mNone\u001b[0m, \u001b[38;5;34m128\u001b[0m)               │             \u001b[38;5;34m512\u001b[0m │ dense_59[\u001b[38;5;34m0\u001b[0m][\u001b[38;5;34m0\u001b[0m]             │\n",
       "│ (\u001b[38;5;33mBatchNormalization\u001b[0m)          │                           │                 │                            │\n",
       "├───────────────────────────────┼───────────────────────────┼─────────────────┼────────────────────────────┤\n",
       "│ dropout_40 (\u001b[38;5;33mDropout\u001b[0m)          │ (\u001b[38;5;45mNone\u001b[0m, \u001b[38;5;34m128\u001b[0m)               │               \u001b[38;5;34m0\u001b[0m │ batch_normalization_40[\u001b[38;5;34m0\u001b[0m]… │\n",
       "├───────────────────────────────┼───────────────────────────┼─────────────────┼────────────────────────────┤\n",
       "│ dense_60 (\u001b[38;5;33mDense\u001b[0m)              │ (\u001b[38;5;45mNone\u001b[0m, \u001b[38;5;34m2\u001b[0m)                 │             \u001b[38;5;34m258\u001b[0m │ dropout_40[\u001b[38;5;34m0\u001b[0m][\u001b[38;5;34m0\u001b[0m]           │\n",
       "└───────────────────────────────┴───────────────────────────┴─────────────────┴────────────────────────────┘\n"
      ]
     },
     "metadata": {},
     "output_type": "display_data"
    },
    {
     "data": {
      "text/html": [
       "<pre style=\"white-space:pre;overflow-x:auto;line-height:normal;font-family:Menlo,'DejaVu Sans Mono',consolas,'Courier New',monospace\"><span style=\"font-weight: bold\"> Total params: </span><span style=\"color: #00af00; text-decoration-color: #00af00\">1,256,579</span> (4.79 MB)\n",
       "</pre>\n"
      ],
      "text/plain": [
       "\u001b[1m Total params: \u001b[0m\u001b[38;5;34m1,256,579\u001b[0m (4.79 MB)\n"
      ]
     },
     "metadata": {},
     "output_type": "display_data"
    },
    {
     "data": {
      "text/html": [
       "<pre style=\"white-space:pre;overflow-x:auto;line-height:normal;font-family:Menlo,'DejaVu Sans Mono',consolas,'Courier New',monospace\"><span style=\"font-weight: bold\"> Trainable params: </span><span style=\"color: #00af00; text-decoration-color: #00af00\">1,255,811</span> (4.79 MB)\n",
       "</pre>\n"
      ],
      "text/plain": [
       "\u001b[1m Trainable params: \u001b[0m\u001b[38;5;34m1,255,811\u001b[0m (4.79 MB)\n"
      ]
     },
     "metadata": {},
     "output_type": "display_data"
    },
    {
     "data": {
      "text/html": [
       "<pre style=\"white-space:pre;overflow-x:auto;line-height:normal;font-family:Menlo,'DejaVu Sans Mono',consolas,'Courier New',monospace\"><span style=\"font-weight: bold\"> Non-trainable params: </span><span style=\"color: #00af00; text-decoration-color: #00af00\">768</span> (3.00 KB)\n",
       "</pre>\n"
      ],
      "text/plain": [
       "\u001b[1m Non-trainable params: \u001b[0m\u001b[38;5;34m768\u001b[0m (3.00 KB)\n"
      ]
     },
     "metadata": {},
     "output_type": "display_data"
    }
   ],
   "source": [
    "import numpy as np\n",
    "from sklearn.model_selection import train_test_split\n",
    "from sklearn.utils.class_weight import compute_class_weight\n",
    "from sklearn import metrics\n",
    "from tensorflow.keras.utils import to_categorical\n",
    "import tensorflow as tf\n",
    "from tensorflow.keras.models import Model\n",
    "from tensorflow.keras.layers import Input, Dense, Dropout, LSTM, Bidirectional, BatchNormalization, Activation, Multiply, Flatten, Lambda\n",
    "import tensorflow.keras.backend as K\n",
    "\n",
    "# ----------------- Data Preprocessing -----------------\n",
    "\n",
    "# One-hot encode labels\n",
    "num_classes = len(np.unique(y))\n",
    "y_cat = to_categorical(y, num_classes)\n",
    "\n",
    "# Train-test split\n",
    "X_train, X_test, y_train, y_test = train_test_split(X, y_cat, test_size=0.2, stratify=y, random_state=42)\n",
    "\n",
    "# Reshape for BiLSTM [samples, time_steps=1, features]\n",
    "X_train = np.expand_dims(X_train, axis=1)\n",
    "X_test = np.expand_dims(X_test, axis=1)\n",
    "\n",
    "# Compute class weights\n",
    "class_weights = compute_class_weight(class_weight='balanced', classes=np.unique(y), y=np.argmax(y_cat, axis=1))\n",
    "class_weights_dict = dict(enumerate(class_weights))\n",
    "\n",
    "# ----------------- Attention Block -----------------\n",
    "def attention_block(inputs):\n",
    "    attention_weights = Dense(1, activation='tanh')(inputs)\n",
    "    attention_weights = Activation('softmax')(attention_weights)\n",
    "    weighted_input = Multiply()([inputs, attention_weights])\n",
    "    context_vector = Lambda(lambda x: K.sum(x, axis=1))(weighted_input)\n",
    "    # context_vector = Lambda(lambda x: K.sum(x, axis=1), output_shape=(inputs.shape[1],))(weighted_input)  \n",
    "    return context_vector\n",
    "\n",
    "# ----------------- Model Definition -----------------\n",
    "input_layer = Input(shape=(1, X.shape[1]))  # Define input shape\n",
    "x = Bidirectional(LSTM(128, return_sequences=True))(input_layer)\n",
    "x = BatchNormalization()(x)\n",
    "x = Dropout(0.3)(x)\n",
    "\n",
    "x = attention_block(x)\n",
    "x = Flatten()(x) \n",
    "x = Dense(128, activation='relu')(x)\n",
    "x = BatchNormalization()(x)\n",
    "x = Dropout(0.3)(x)\n",
    "\n",
    "output = Dense(num_classes, activation='softmax')(x)\n",
    "\n",
    "model = Model(inputs=input_layer, outputs=output)\n",
    "model.compile(optimizer='adam', loss='categorical_crossentropy', metrics=['accuracy'])\n",
    "\n",
    "# ----------------- Summary -----------------\n",
    "model.summary()\n",
    "\n",
    "\n",
    "\n",
    "# import tensorflow as tf\n",
    "# from tensorflow.keras.models import Model\n",
    "# from tensorflow.keras.layers import Input, Bidirectional, LSTM, Dense, Dropout, Layer, Flatten, Multiply, Permute\n",
    "# from tensorflow.keras.optimizers import Adam\n",
    "# from tensorflow.keras.callbacks import EarlyStopping, ReduceLROnPlateau, ModelCheckpoint\n",
    "\n",
    "\n",
    "\n",
    "# # One-hot encode labels\n",
    "# num_classes = len(np.unique(y))\n",
    "# y_cat = to_categorical(y, num_classes)\n",
    "\n",
    "# # Train-test split\n",
    "# X_train, X_test, y_train, y_test = train_test_split(X, y_cat, test_size=0.2, stratify=y, random_state=42)\n",
    "\n",
    "# # Reshape for BiLSTM [samples, time_steps=1, features]\n",
    "# X_train = np.expand_dims(X_train, axis=1)\n",
    "# X_test = np.expand_dims(X_test, axis=1)\n",
    "\n",
    "# # Compute class weights\n",
    "# class_weights = compute_class_weight(class_weight='balanced', classes=np.unique(y), y=np.argmax(y_cat, axis=1))\n",
    "# class_weights_dict = dict(enumerate(class_weights))\n",
    "\n",
    "# # ----------------- Attention Layer -----------------\n",
    "# class Attention(Layer):\n",
    "#     def __init__(self, **kwargs):\n",
    "#         super(Attention, self).__init__(**kwargs)\n",
    "\n",
    "#     def build(self, input_shape):\n",
    "#         self.W = self.add_weight(name='att_weight', shape=(input_shape[-1], 1),\n",
    "#                                  initializer='normal', trainable=True)\n",
    "#         self.b = self.add_weight(name='att_bias', shape=(input_shape[1], 1),\n",
    "#                                  initializer='zeros', trainable=True)\n",
    "#         super(Attention, self).build(input_shape)\n",
    "\n",
    "#     def call(self, x):\n",
    "#         e = tf.keras.backend.tanh(tf.keras.backend.dot(x, self.W) + self.b)\n",
    "#         a = tf.keras.backend.softmax(e, axis=1)\n",
    "#         output = x * a\n",
    "#         return tf.keras.backend.sum(output, axis=1)\n",
    "\n",
    "# # ----------------- Model Architecture -----------------\n",
    "# input_layer = Input(shape=(1, 1064))  # Input shape\n",
    "# x = tf.keras.layers.Reshape((1064, 1))(input_layer)  # Reshape for LSTM\n",
    "\n",
    "# x = Bidirectional(LSTM(128, return_sequences=True))(x)\n",
    "# x = Dropout(0.5)(x)\n",
    "# x = Attention()(x)\n",
    "\n",
    "# x = Dense(128, activation='relu')(x)\n",
    "# x = Dropout(0.5)(x)\n",
    "# output_layer = Dense(1, activation='sigmoid')(x)\n",
    "\n",
    "# model = Model(inputs=input_layer, outputs=output_layer)\n",
    "# model.compile(optimizer=Adam(learning_rate=1e-4), loss='binary_crossentropy', metrics=['accuracy'])\n",
    "\n",
    "# model.summary()\n",
    "\n"
   ]
  },
  {
   "cell_type": "code",
   "execution_count": 47,
   "id": "ce63f079-1999-40fb-9465-eee6b852d86b",
   "metadata": {},
   "outputs": [
    {
     "name": "stdout",
     "output_type": "stream",
     "text": [
      "Epoch 1/50\n"
     ]
    },
    {
     "name": "stderr",
     "output_type": "stream",
     "text": [
      "C:\\Users\\Vishal Kumar Patel\\AppData\\Local\\Programs\\Python\\Python312\\Lib\\site-packages\\keras\\src\\ops\\nn.py:908: UserWarning: You are using a softmax over axis -1 of a tensor of shape (None, 1, 1). This axis has size 1. The softmax operation will always return the value 1, which is likely not what you intended. Did you mean to use a sigmoid instead?\n",
      "  warnings.warn(\n"
     ]
    },
    {
     "name": "stdout",
     "output_type": "stream",
     "text": [
      "\u001b[1m225/226\u001b[0m \u001b[32m━━━━━━━━━━━━━━━━━━━\u001b[0m\u001b[37m━\u001b[0m \u001b[1m0s\u001b[0m 32ms/step - accuracy: 0.8081 - loss: 0.4968\n",
      "Epoch 1: val_loss improved from inf to 0.30803, saving model to best_model.h5\n"
     ]
    },
    {
     "name": "stderr",
     "output_type": "stream",
     "text": [
      "WARNING:absl:You are saving your model as an HDF5 file via `model.save()` or `keras.saving.save_model(model)`. This file format is considered legacy. We recommend using instead the native Keras format, e.g. `model.save('my_model.keras')` or `keras.saving.save_model(model, 'my_model.keras')`. \n"
     ]
    },
    {
     "name": "stdout",
     "output_type": "stream",
     "text": [
      "\u001b[1m226/226\u001b[0m \u001b[32m━━━━━━━━━━━━━━━━━━━━\u001b[0m\u001b[37m\u001b[0m \u001b[1m12s\u001b[0m 35ms/step - accuracy: 0.8085 - loss: 0.4959 - val_accuracy: 0.8891 - val_loss: 0.3080 - learning_rate: 0.0010\n",
      "Epoch 2/50\n",
      "\u001b[1m226/226\u001b[0m \u001b[32m━━━━━━━━━━━━━━━━━━━━\u001b[0m\u001b[37m\u001b[0m \u001b[1m0s\u001b[0m 24ms/step - accuracy: 0.8885 - loss: 0.2856\n",
      "Epoch 2: val_loss improved from 0.30803 to 0.28003, saving model to best_model.h5\n"
     ]
    },
    {
     "name": "stderr",
     "output_type": "stream",
     "text": [
      "WARNING:absl:You are saving your model as an HDF5 file via `model.save()` or `keras.saving.save_model(model)`. This file format is considered legacy. We recommend using instead the native Keras format, e.g. `model.save('my_model.keras')` or `keras.saving.save_model(model, 'my_model.keras')`. \n"
     ]
    },
    {
     "name": "stdout",
     "output_type": "stream",
     "text": [
      "\u001b[1m226/226\u001b[0m \u001b[32m━━━━━━━━━━━━━━━━━━━━\u001b[0m\u001b[37m\u001b[0m \u001b[1m6s\u001b[0m 26ms/step - accuracy: 0.8885 - loss: 0.2855 - val_accuracy: 0.8830 - val_loss: 0.2800 - learning_rate: 0.0010\n",
      "Epoch 3/50\n",
      "\u001b[1m226/226\u001b[0m \u001b[32m━━━━━━━━━━━━━━━━━━━━\u001b[0m\u001b[37m\u001b[0m \u001b[1m0s\u001b[0m 24ms/step - accuracy: 0.9051 - loss: 0.2503\n",
      "Epoch 3: val_loss improved from 0.28003 to 0.21336, saving model to best_model.h5\n"
     ]
    },
    {
     "name": "stderr",
     "output_type": "stream",
     "text": [
      "WARNING:absl:You are saving your model as an HDF5 file via `model.save()` or `keras.saving.save_model(model)`. This file format is considered legacy. We recommend using instead the native Keras format, e.g. `model.save('my_model.keras')` or `keras.saving.save_model(model, 'my_model.keras')`. \n"
     ]
    },
    {
     "name": "stdout",
     "output_type": "stream",
     "text": [
      "\u001b[1m226/226\u001b[0m \u001b[32m━━━━━━━━━━━━━━━━━━━━\u001b[0m\u001b[37m\u001b[0m \u001b[1m6s\u001b[0m 26ms/step - accuracy: 0.9051 - loss: 0.2502 - val_accuracy: 0.9185 - val_loss: 0.2134 - learning_rate: 0.0010\n",
      "Epoch 4/50\n",
      "\u001b[1m226/226\u001b[0m \u001b[32m━━━━━━━━━━━━━━━━━━━━\u001b[0m\u001b[37m\u001b[0m \u001b[1m0s\u001b[0m 29ms/step - accuracy: 0.9101 - loss: 0.2307\n",
      "Epoch 4: val_loss improved from 0.21336 to 0.20268, saving model to best_model.h5\n"
     ]
    },
    {
     "name": "stderr",
     "output_type": "stream",
     "text": [
      "WARNING:absl:You are saving your model as an HDF5 file via `model.save()` or `keras.saving.save_model(model)`. This file format is considered legacy. We recommend using instead the native Keras format, e.g. `model.save('my_model.keras')` or `keras.saving.save_model(model, 'my_model.keras')`. \n"
     ]
    },
    {
     "name": "stdout",
     "output_type": "stream",
     "text": [
      "\u001b[1m226/226\u001b[0m \u001b[32m━━━━━━━━━━━━━━━━━━━━\u001b[0m\u001b[37m\u001b[0m \u001b[1m7s\u001b[0m 30ms/step - accuracy: 0.9101 - loss: 0.2307 - val_accuracy: 0.9224 - val_loss: 0.2027 - learning_rate: 0.0010\n",
      "Epoch 5/50\n",
      "\u001b[1m225/226\u001b[0m \u001b[32m━━━━━━━━━━━━━━━━━━━\u001b[0m\u001b[37m━\u001b[0m \u001b[1m0s\u001b[0m 25ms/step - accuracy: 0.9126 - loss: 0.2272\n",
      "Epoch 5: val_loss did not improve from 0.20268\n",
      "\u001b[1m226/226\u001b[0m \u001b[32m━━━━━━━━━━━━━━━━━━━━\u001b[0m\u001b[37m\u001b[0m \u001b[1m6s\u001b[0m 26ms/step - accuracy: 0.9126 - loss: 0.2271 - val_accuracy: 0.9041 - val_loss: 0.2355 - learning_rate: 0.0010\n",
      "Epoch 6/50\n",
      "\u001b[1m225/226\u001b[0m \u001b[32m━━━━━━━━━━━━━━━━━━━\u001b[0m\u001b[37m━\u001b[0m \u001b[1m0s\u001b[0m 24ms/step - accuracy: 0.9178 - loss: 0.2040\n",
      "Epoch 6: val_loss did not improve from 0.20268\n",
      "\u001b[1m226/226\u001b[0m \u001b[32m━━━━━━━━━━━━━━━━━━━━\u001b[0m\u001b[37m\u001b[0m \u001b[1m6s\u001b[0m 25ms/step - accuracy: 0.9178 - loss: 0.2040 - val_accuracy: 0.8570 - val_loss: 0.3572 - learning_rate: 0.0010\n",
      "Epoch 7/50\n",
      "\u001b[1m225/226\u001b[0m \u001b[32m━━━━━━━━━━━━━━━━━━━\u001b[0m\u001b[37m━\u001b[0m \u001b[1m0s\u001b[0m 24ms/step - accuracy: 0.9234 - loss: 0.2029\n",
      "Epoch 7: val_loss did not improve from 0.20268\n",
      "\u001b[1m226/226\u001b[0m \u001b[32m━━━━━━━━━━━━━━━━━━━━\u001b[0m\u001b[37m\u001b[0m \u001b[1m6s\u001b[0m 25ms/step - accuracy: 0.9234 - loss: 0.2029 - val_accuracy: 0.9108 - val_loss: 0.2408 - learning_rate: 0.0010\n",
      "Epoch 8/50\n",
      "\u001b[1m226/226\u001b[0m \u001b[32m━━━━━━━━━━━━━━━━━━━━\u001b[0m\u001b[37m\u001b[0m \u001b[1m0s\u001b[0m 24ms/step - accuracy: 0.9240 - loss: 0.1932\n",
      "Epoch 8: val_loss did not improve from 0.20268\n",
      "\u001b[1m226/226\u001b[0m \u001b[32m━━━━━━━━━━━━━━━━━━━━\u001b[0m\u001b[37m\u001b[0m \u001b[1m6s\u001b[0m 25ms/step - accuracy: 0.9240 - loss: 0.1932 - val_accuracy: 0.9152 - val_loss: 0.2182 - learning_rate: 5.0000e-04\n",
      "Epoch 9/50\n",
      "\u001b[1m225/226\u001b[0m \u001b[32m━━━━━━━━━━━━━━━━━━━\u001b[0m\u001b[37m━\u001b[0m \u001b[1m0s\u001b[0m 24ms/step - accuracy: 0.9309 - loss: 0.1806\n",
      "Epoch 9: val_loss did not improve from 0.20268\n",
      "\u001b[1m226/226\u001b[0m \u001b[32m━━━━━━━━━━━━━━━━━━━━\u001b[0m\u001b[37m\u001b[0m \u001b[1m6s\u001b[0m 25ms/step - accuracy: 0.9308 - loss: 0.1806 - val_accuracy: 0.9252 - val_loss: 0.2037 - learning_rate: 5.0000e-04\n",
      "Epoch 10/50\n",
      "\u001b[1m225/226\u001b[0m \u001b[32m━━━━━━━━━━━━━━━━━━━\u001b[0m\u001b[37m━\u001b[0m \u001b[1m0s\u001b[0m 25ms/step - accuracy: 0.9323 - loss: 0.1746\n",
      "Epoch 10: val_loss improved from 0.20268 to 0.18501, saving model to best_model.h5\n"
     ]
    },
    {
     "name": "stderr",
     "output_type": "stream",
     "text": [
      "WARNING:absl:You are saving your model as an HDF5 file via `model.save()` or `keras.saving.save_model(model)`. This file format is considered legacy. We recommend using instead the native Keras format, e.g. `model.save('my_model.keras')` or `keras.saving.save_model(model, 'my_model.keras')`. \n"
     ]
    },
    {
     "name": "stdout",
     "output_type": "stream",
     "text": [
      "\u001b[1m226/226\u001b[0m \u001b[32m━━━━━━━━━━━━━━━━━━━━\u001b[0m\u001b[37m\u001b[0m \u001b[1m6s\u001b[0m 26ms/step - accuracy: 0.9323 - loss: 0.1745 - val_accuracy: 0.9274 - val_loss: 0.1850 - learning_rate: 5.0000e-04\n",
      "Epoch 11/50\n",
      "\u001b[1m226/226\u001b[0m \u001b[32m━━━━━━━━━━━━━━━━━━━━\u001b[0m\u001b[37m\u001b[0m \u001b[1m0s\u001b[0m 24ms/step - accuracy: 0.9354 - loss: 0.1671\n",
      "Epoch 11: val_loss did not improve from 0.18501\n",
      "\u001b[1m226/226\u001b[0m \u001b[32m━━━━━━━━━━━━━━━━━━━━\u001b[0m\u001b[37m\u001b[0m \u001b[1m6s\u001b[0m 25ms/step - accuracy: 0.9354 - loss: 0.1671 - val_accuracy: 0.9224 - val_loss: 0.2092 - learning_rate: 5.0000e-04\n",
      "Epoch 12/50\n",
      "\u001b[1m226/226\u001b[0m \u001b[32m━━━━━━━━━━━━━━━━━━━━\u001b[0m\u001b[37m\u001b[0m \u001b[1m0s\u001b[0m 25ms/step - accuracy: 0.9282 - loss: 0.1746\n",
      "Epoch 12: val_loss did not improve from 0.18501\n",
      "\u001b[1m226/226\u001b[0m \u001b[32m━━━━━━━━━━━━━━━━━━━━\u001b[0m\u001b[37m\u001b[0m \u001b[1m6s\u001b[0m 26ms/step - accuracy: 0.9282 - loss: 0.1746 - val_accuracy: 0.9246 - val_loss: 0.1851 - learning_rate: 5.0000e-04\n",
      "Epoch 13/50\n",
      "\u001b[1m226/226\u001b[0m \u001b[32m━━━━━━━━━━━━━━━━━━━━\u001b[0m\u001b[37m\u001b[0m \u001b[1m0s\u001b[0m 25ms/step - accuracy: 0.9372 - loss: 0.1625\n",
      "Epoch 13: val_loss did not improve from 0.18501\n",
      "\u001b[1m226/226\u001b[0m \u001b[32m━━━━━━━━━━━━━━━━━━━━\u001b[0m\u001b[37m\u001b[0m \u001b[1m6s\u001b[0m 26ms/step - accuracy: 0.9372 - loss: 0.1625 - val_accuracy: 0.9257 - val_loss: 0.1853 - learning_rate: 5.0000e-04\n",
      "Epoch 14/50\n",
      "\u001b[1m226/226\u001b[0m \u001b[32m━━━━━━━━━━━━━━━━━━━━\u001b[0m\u001b[37m\u001b[0m \u001b[1m0s\u001b[0m 31ms/step - accuracy: 0.9410 - loss: 0.1512\n",
      "Epoch 14: val_loss improved from 0.18501 to 0.17899, saving model to best_model.h5\n"
     ]
    },
    {
     "name": "stderr",
     "output_type": "stream",
     "text": [
      "WARNING:absl:You are saving your model as an HDF5 file via `model.save()` or `keras.saving.save_model(model)`. This file format is considered legacy. We recommend using instead the native Keras format, e.g. `model.save('my_model.keras')` or `keras.saving.save_model(model, 'my_model.keras')`. \n"
     ]
    },
    {
     "name": "stdout",
     "output_type": "stream",
     "text": [
      "\u001b[1m226/226\u001b[0m \u001b[32m━━━━━━━━━━━━━━━━━━━━\u001b[0m\u001b[37m\u001b[0m \u001b[1m7s\u001b[0m 32ms/step - accuracy: 0.9410 - loss: 0.1512 - val_accuracy: 0.9268 - val_loss: 0.1790 - learning_rate: 2.5000e-04\n",
      "Epoch 15/50\n",
      "\u001b[1m225/226\u001b[0m \u001b[32m━━━━━━━━━━━━━━━━━━━\u001b[0m\u001b[37m━\u001b[0m \u001b[1m0s\u001b[0m 29ms/step - accuracy: 0.9453 - loss: 0.1416\n",
      "Epoch 15: val_loss did not improve from 0.17899\n",
      "\u001b[1m226/226\u001b[0m \u001b[32m━━━━━━━━━━━━━━━━━━━━\u001b[0m\u001b[37m\u001b[0m \u001b[1m7s\u001b[0m 30ms/step - accuracy: 0.9453 - loss: 0.1416 - val_accuracy: 0.9235 - val_loss: 0.1962 - learning_rate: 2.5000e-04\n",
      "Epoch 16/50\n",
      "\u001b[1m226/226\u001b[0m \u001b[32m━━━━━━━━━━━━━━━━━━━━\u001b[0m\u001b[37m\u001b[0m \u001b[1m0s\u001b[0m 28ms/step - accuracy: 0.9452 - loss: 0.1395\n",
      "Epoch 16: val_loss did not improve from 0.17899\n",
      "\u001b[1m226/226\u001b[0m \u001b[32m━━━━━━━━━━━━━━━━━━━━\u001b[0m\u001b[37m\u001b[0m \u001b[1m7s\u001b[0m 29ms/step - accuracy: 0.9452 - loss: 0.1395 - val_accuracy: 0.9252 - val_loss: 0.1968 - learning_rate: 2.5000e-04\n",
      "Epoch 17/50\n",
      "\u001b[1m225/226\u001b[0m \u001b[32m━━━━━━━━━━━━━━━━━━━\u001b[0m\u001b[37m━\u001b[0m \u001b[1m0s\u001b[0m 29ms/step - accuracy: 0.9442 - loss: 0.1400\n",
      "Epoch 17: val_loss did not improve from 0.17899\n",
      "\u001b[1m226/226\u001b[0m \u001b[32m━━━━━━━━━━━━━━━━━━━━\u001b[0m\u001b[37m\u001b[0m \u001b[1m7s\u001b[0m 30ms/step - accuracy: 0.9442 - loss: 0.1399 - val_accuracy: 0.9235 - val_loss: 0.1911 - learning_rate: 2.5000e-04\n",
      "Epoch 18/50\n",
      "\u001b[1m225/226\u001b[0m \u001b[32m━━━━━━━━━━━━━━━━━━━\u001b[0m\u001b[37m━\u001b[0m \u001b[1m0s\u001b[0m 30ms/step - accuracy: 0.9468 - loss: 0.1366\n",
      "Epoch 18: val_loss did not improve from 0.17899\n",
      "\u001b[1m226/226\u001b[0m \u001b[32m━━━━━━━━━━━━━━━━━━━━\u001b[0m\u001b[37m\u001b[0m \u001b[1m7s\u001b[0m 32ms/step - accuracy: 0.9468 - loss: 0.1365 - val_accuracy: 0.9274 - val_loss: 0.1813 - learning_rate: 1.2500e-04\n",
      "Epoch 19/50\n",
      "\u001b[1m225/226\u001b[0m \u001b[32m━━━━━━━━━━━━━━━━━━━\u001b[0m\u001b[37m━\u001b[0m \u001b[1m0s\u001b[0m 29ms/step - accuracy: 0.9517 - loss: 0.1328\n",
      "Epoch 19: val_loss improved from 0.17899 to 0.17630, saving model to best_model.h5\n"
     ]
    },
    {
     "name": "stderr",
     "output_type": "stream",
     "text": [
      "WARNING:absl:You are saving your model as an HDF5 file via `model.save()` or `keras.saving.save_model(model)`. This file format is considered legacy. We recommend using instead the native Keras format, e.g. `model.save('my_model.keras')` or `keras.saving.save_model(model, 'my_model.keras')`. \n"
     ]
    },
    {
     "name": "stdout",
     "output_type": "stream",
     "text": [
      "\u001b[1m226/226\u001b[0m \u001b[32m━━━━━━━━━━━━━━━━━━━━\u001b[0m\u001b[37m\u001b[0m \u001b[1m7s\u001b[0m 30ms/step - accuracy: 0.9517 - loss: 0.1328 - val_accuracy: 0.9290 - val_loss: 0.1763 - learning_rate: 1.2500e-04\n",
      "Epoch 20/50\n",
      "\u001b[1m225/226\u001b[0m \u001b[32m━━━━━━━━━━━━━━━━━━━\u001b[0m\u001b[37m━\u001b[0m \u001b[1m0s\u001b[0m 28ms/step - accuracy: 0.9487 - loss: 0.1318\n",
      "Epoch 20: val_loss improved from 0.17630 to 0.17607, saving model to best_model.h5\n"
     ]
    },
    {
     "name": "stderr",
     "output_type": "stream",
     "text": [
      "WARNING:absl:You are saving your model as an HDF5 file via `model.save()` or `keras.saving.save_model(model)`. This file format is considered legacy. We recommend using instead the native Keras format, e.g. `model.save('my_model.keras')` or `keras.saving.save_model(model, 'my_model.keras')`. \n"
     ]
    },
    {
     "name": "stdout",
     "output_type": "stream",
     "text": [
      "\u001b[1m226/226\u001b[0m \u001b[32m━━━━━━━━━━━━━━━━━━━━\u001b[0m\u001b[37m\u001b[0m \u001b[1m7s\u001b[0m 29ms/step - accuracy: 0.9487 - loss: 0.1318 - val_accuracy: 0.9296 - val_loss: 0.1761 - learning_rate: 1.2500e-04\n",
      "Epoch 21/50\n",
      "\u001b[1m225/226\u001b[0m \u001b[32m━━━━━━━━━━━━━━━━━━━\u001b[0m\u001b[37m━\u001b[0m \u001b[1m0s\u001b[0m 28ms/step - accuracy: 0.9468 - loss: 0.1333\n",
      "Epoch 21: val_loss did not improve from 0.17607\n",
      "\u001b[1m226/226\u001b[0m \u001b[32m━━━━━━━━━━━━━━━━━━━━\u001b[0m\u001b[37m\u001b[0m \u001b[1m7s\u001b[0m 29ms/step - accuracy: 0.9469 - loss: 0.1333 - val_accuracy: 0.9302 - val_loss: 0.1838 - learning_rate: 1.2500e-04\n",
      "Epoch 22/50\n",
      "\u001b[1m226/226\u001b[0m \u001b[32m━━━━━━━━━━━━━━━━━━━━\u001b[0m\u001b[37m\u001b[0m \u001b[1m0s\u001b[0m 28ms/step - accuracy: 0.9499 - loss: 0.1272\n",
      "Epoch 22: val_loss did not improve from 0.17607\n",
      "\u001b[1m226/226\u001b[0m \u001b[32m━━━━━━━━━━━━━━━━━━━━\u001b[0m\u001b[37m\u001b[0m \u001b[1m7s\u001b[0m 29ms/step - accuracy: 0.9499 - loss: 0.1272 - val_accuracy: 0.9307 - val_loss: 0.1765 - learning_rate: 1.2500e-04\n",
      "Epoch 23/50\n",
      "\u001b[1m226/226\u001b[0m \u001b[32m━━━━━━━━━━━━━━━━━━━━\u001b[0m\u001b[37m\u001b[0m \u001b[1m0s\u001b[0m 28ms/step - accuracy: 0.9531 - loss: 0.1258\n",
      "Epoch 23: val_loss did not improve from 0.17607\n",
      "\u001b[1m226/226\u001b[0m \u001b[32m━━━━━━━━━━━━━━━━━━━━\u001b[0m\u001b[37m\u001b[0m \u001b[1m7s\u001b[0m 29ms/step - accuracy: 0.9531 - loss: 0.1258 - val_accuracy: 0.9257 - val_loss: 0.1870 - learning_rate: 1.2500e-04\n",
      "Epoch 24/50\n",
      "\u001b[1m225/226\u001b[0m \u001b[32m━━━━━━━━━━━━━━━━━━━\u001b[0m\u001b[37m━\u001b[0m \u001b[1m0s\u001b[0m 29ms/step - accuracy: 0.9523 - loss: 0.1234\n",
      "Epoch 24: val_loss improved from 0.17607 to 0.17539, saving model to best_model.h5\n"
     ]
    },
    {
     "name": "stderr",
     "output_type": "stream",
     "text": [
      "WARNING:absl:You are saving your model as an HDF5 file via `model.save()` or `keras.saving.save_model(model)`. This file format is considered legacy. We recommend using instead the native Keras format, e.g. `model.save('my_model.keras')` or `keras.saving.save_model(model, 'my_model.keras')`. \n"
     ]
    },
    {
     "name": "stdout",
     "output_type": "stream",
     "text": [
      "\u001b[1m226/226\u001b[0m \u001b[32m━━━━━━━━━━━━━━━━━━━━\u001b[0m\u001b[37m\u001b[0m \u001b[1m7s\u001b[0m 30ms/step - accuracy: 0.9523 - loss: 0.1234 - val_accuracy: 0.9302 - val_loss: 0.1754 - learning_rate: 6.2500e-05\n",
      "Epoch 25/50\n",
      "\u001b[1m226/226\u001b[0m \u001b[32m━━━━━━━━━━━━━━━━━━━━\u001b[0m\u001b[37m\u001b[0m \u001b[1m0s\u001b[0m 25ms/step - accuracy: 0.9498 - loss: 0.1209\n",
      "Epoch 25: val_loss improved from 0.17539 to 0.17489, saving model to best_model.h5\n"
     ]
    },
    {
     "name": "stderr",
     "output_type": "stream",
     "text": [
      "WARNING:absl:You are saving your model as an HDF5 file via `model.save()` or `keras.saving.save_model(model)`. This file format is considered legacy. We recommend using instead the native Keras format, e.g. `model.save('my_model.keras')` or `keras.saving.save_model(model, 'my_model.keras')`. \n"
     ]
    },
    {
     "name": "stdout",
     "output_type": "stream",
     "text": [
      "\u001b[1m226/226\u001b[0m \u001b[32m━━━━━━━━━━━━━━━━━━━━\u001b[0m\u001b[37m\u001b[0m \u001b[1m6s\u001b[0m 27ms/step - accuracy: 0.9498 - loss: 0.1209 - val_accuracy: 0.9296 - val_loss: 0.1749 - learning_rate: 6.2500e-05\n",
      "Epoch 26/50\n",
      "\u001b[1m225/226\u001b[0m \u001b[32m━━━━━━━━━━━━━━━━━━━\u001b[0m\u001b[37m━\u001b[0m \u001b[1m0s\u001b[0m 30ms/step - accuracy: 0.9535 - loss: 0.1209\n",
      "Epoch 26: val_loss did not improve from 0.17489\n",
      "\u001b[1m226/226\u001b[0m \u001b[32m━━━━━━━━━━━━━━━━━━━━\u001b[0m\u001b[37m\u001b[0m \u001b[1m7s\u001b[0m 31ms/step - accuracy: 0.9535 - loss: 0.1209 - val_accuracy: 0.9263 - val_loss: 0.1750 - learning_rate: 6.2500e-05\n",
      "Epoch 27/50\n",
      "\u001b[1m225/226\u001b[0m \u001b[32m━━━━━━━━━━━━━━━━━━━\u001b[0m\u001b[37m━\u001b[0m \u001b[1m0s\u001b[0m 32ms/step - accuracy: 0.9553 - loss: 0.1129\n",
      "Epoch 27: val_loss did not improve from 0.17489\n",
      "\u001b[1m226/226\u001b[0m \u001b[32m━━━━━━━━━━━━━━━━━━━━\u001b[0m\u001b[37m\u001b[0m \u001b[1m8s\u001b[0m 33ms/step - accuracy: 0.9553 - loss: 0.1128 - val_accuracy: 0.9268 - val_loss: 0.1765 - learning_rate: 6.2500e-05\n",
      "Epoch 28/50\n",
      "\u001b[1m226/226\u001b[0m \u001b[32m━━━━━━━━━━━━━━━━━━━━\u001b[0m\u001b[37m\u001b[0m \u001b[1m0s\u001b[0m 28ms/step - accuracy: 0.9532 - loss: 0.1154\n",
      "Epoch 28: val_loss did not improve from 0.17489\n",
      "\u001b[1m226/226\u001b[0m \u001b[32m━━━━━━━━━━━━━━━━━━━━\u001b[0m\u001b[37m\u001b[0m \u001b[1m7s\u001b[0m 29ms/step - accuracy: 0.9532 - loss: 0.1154 - val_accuracy: 0.9302 - val_loss: 0.1789 - learning_rate: 6.2500e-05\n",
      "Epoch 29/50\n",
      "\u001b[1m225/226\u001b[0m \u001b[32m━━━━━━━━━━━━━━━━━━━\u001b[0m\u001b[37m━\u001b[0m \u001b[1m0s\u001b[0m 28ms/step - accuracy: 0.9563 - loss: 0.1115\n",
      "Epoch 29: val_loss did not improve from 0.17489\n",
      "\u001b[1m226/226\u001b[0m \u001b[32m━━━━━━━━━━━━━━━━━━━━\u001b[0m\u001b[37m\u001b[0m \u001b[1m7s\u001b[0m 29ms/step - accuracy: 0.9563 - loss: 0.1114 - val_accuracy: 0.9307 - val_loss: 0.1750 - learning_rate: 3.1250e-05\n",
      "Epoch 30/50\n",
      "\u001b[1m225/226\u001b[0m \u001b[32m━━━━━━━━━━━━━━━━━━━\u001b[0m\u001b[37m━\u001b[0m \u001b[1m0s\u001b[0m 29ms/step - accuracy: 0.9573 - loss: 0.1153\n",
      "Epoch 30: val_loss improved from 0.17489 to 0.17451, saving model to best_model.h5\n"
     ]
    },
    {
     "name": "stderr",
     "output_type": "stream",
     "text": [
      "WARNING:absl:You are saving your model as an HDF5 file via `model.save()` or `keras.saving.save_model(model)`. This file format is considered legacy. We recommend using instead the native Keras format, e.g. `model.save('my_model.keras')` or `keras.saving.save_model(model, 'my_model.keras')`. \n"
     ]
    },
    {
     "name": "stdout",
     "output_type": "stream",
     "text": [
      "\u001b[1m226/226\u001b[0m \u001b[32m━━━━━━━━━━━━━━━━━━━━\u001b[0m\u001b[37m\u001b[0m \u001b[1m7s\u001b[0m 31ms/step - accuracy: 0.9573 - loss: 0.1153 - val_accuracy: 0.9329 - val_loss: 0.1745 - learning_rate: 3.1250e-05\n",
      "Epoch 31/50\n",
      "\u001b[1m226/226\u001b[0m \u001b[32m━━━━━━━━━━━━━━━━━━━━\u001b[0m\u001b[37m\u001b[0m \u001b[1m0s\u001b[0m 29ms/step - accuracy: 0.9568 - loss: 0.1084\n",
      "Epoch 31: val_loss did not improve from 0.17451\n",
      "\u001b[1m226/226\u001b[0m \u001b[32m━━━━━━━━━━━━━━━━━━━━\u001b[0m\u001b[37m\u001b[0m \u001b[1m7s\u001b[0m 30ms/step - accuracy: 0.9568 - loss: 0.1084 - val_accuracy: 0.9290 - val_loss: 0.1763 - learning_rate: 3.1250e-05\n",
      "Epoch 32/50\n",
      "\u001b[1m226/226\u001b[0m \u001b[32m━━━━━━━━━━━━━━━━━━━━\u001b[0m\u001b[37m\u001b[0m \u001b[1m0s\u001b[0m 27ms/step - accuracy: 0.9563 - loss: 0.1082\n",
      "Epoch 32: val_loss improved from 0.17451 to 0.17401, saving model to best_model.h5\n"
     ]
    },
    {
     "name": "stderr",
     "output_type": "stream",
     "text": [
      "WARNING:absl:You are saving your model as an HDF5 file via `model.save()` or `keras.saving.save_model(model)`. This file format is considered legacy. We recommend using instead the native Keras format, e.g. `model.save('my_model.keras')` or `keras.saving.save_model(model, 'my_model.keras')`. \n"
     ]
    },
    {
     "name": "stdout",
     "output_type": "stream",
     "text": [
      "\u001b[1m226/226\u001b[0m \u001b[32m━━━━━━━━━━━━━━━━━━━━\u001b[0m\u001b[37m\u001b[0m \u001b[1m7s\u001b[0m 29ms/step - accuracy: 0.9563 - loss: 0.1082 - val_accuracy: 0.9313 - val_loss: 0.1740 - learning_rate: 3.1250e-05\n",
      "Epoch 33/50\n",
      "\u001b[1m225/226\u001b[0m \u001b[32m━━━━━━━━━━━━━━━━━━━\u001b[0m\u001b[37m━\u001b[0m \u001b[1m0s\u001b[0m 28ms/step - accuracy: 0.9583 - loss: 0.1092\n",
      "Epoch 33: val_loss did not improve from 0.17401\n",
      "\u001b[1m226/226\u001b[0m \u001b[32m━━━━━━━━━━━━━━━━━━━━\u001b[0m\u001b[37m\u001b[0m \u001b[1m7s\u001b[0m 29ms/step - accuracy: 0.9583 - loss: 0.1092 - val_accuracy: 0.9324 - val_loss: 0.1761 - learning_rate: 3.1250e-05\n",
      "Epoch 34/50\n",
      "\u001b[1m226/226\u001b[0m \u001b[32m━━━━━━━━━━━━━━━━━━━━\u001b[0m\u001b[37m\u001b[0m \u001b[1m0s\u001b[0m 29ms/step - accuracy: 0.9592 - loss: 0.1087\n",
      "Epoch 34: val_loss did not improve from 0.17401\n",
      "\u001b[1m226/226\u001b[0m \u001b[32m━━━━━━━━━━━━━━━━━━━━\u001b[0m\u001b[37m\u001b[0m \u001b[1m7s\u001b[0m 30ms/step - accuracy: 0.9592 - loss: 0.1087 - val_accuracy: 0.9302 - val_loss: 0.1756 - learning_rate: 3.1250e-05\n",
      "Epoch 35/50\n",
      "\u001b[1m225/226\u001b[0m \u001b[32m━━━━━━━━━━━━━━━━━━━\u001b[0m\u001b[37m━\u001b[0m \u001b[1m0s\u001b[0m 28ms/step - accuracy: 0.9618 - loss: 0.1029\n",
      "Epoch 35: val_loss did not improve from 0.17401\n",
      "\u001b[1m226/226\u001b[0m \u001b[32m━━━━━━━━━━━━━━━━━━━━\u001b[0m\u001b[37m\u001b[0m \u001b[1m7s\u001b[0m 29ms/step - accuracy: 0.9618 - loss: 0.1029 - val_accuracy: 0.9313 - val_loss: 0.1761 - learning_rate: 3.1250e-05\n",
      "Epoch 36/50\n",
      "\u001b[1m226/226\u001b[0m \u001b[32m━━━━━━━━━━━━━━━━━━━━\u001b[0m\u001b[37m\u001b[0m \u001b[1m0s\u001b[0m 29ms/step - accuracy: 0.9581 - loss: 0.1061\n",
      "Epoch 36: val_loss did not improve from 0.17401\n",
      "\u001b[1m226/226\u001b[0m \u001b[32m━━━━━━━━━━━━━━━━━━━━\u001b[0m\u001b[37m\u001b[0m \u001b[1m7s\u001b[0m 31ms/step - accuracy: 0.9581 - loss: 0.1061 - val_accuracy: 0.9302 - val_loss: 0.1762 - learning_rate: 1.5625e-05\n",
      "Epoch 37/50\n",
      "\u001b[1m225/226\u001b[0m \u001b[32m━━━━━━━━━━━━━━━━━━━\u001b[0m\u001b[37m━\u001b[0m \u001b[1m0s\u001b[0m 30ms/step - accuracy: 0.9576 - loss: 0.1025\n",
      "Epoch 37: val_loss did not improve from 0.17401\n",
      "\u001b[1m226/226\u001b[0m \u001b[32m━━━━━━━━━━━━━━━━━━━━\u001b[0m\u001b[37m\u001b[0m \u001b[1m7s\u001b[0m 31ms/step - accuracy: 0.9576 - loss: 0.1025 - val_accuracy: 0.9318 - val_loss: 0.1772 - learning_rate: 1.5625e-05\n",
      "Epoch 38/50\n",
      "\u001b[1m225/226\u001b[0m \u001b[32m━━━━━━━━━━━━━━━━━━━\u001b[0m\u001b[37m━\u001b[0m \u001b[1m0s\u001b[0m 30ms/step - accuracy: 0.9624 - loss: 0.1037\n",
      "Epoch 38: val_loss did not improve from 0.17401\n",
      "\u001b[1m226/226\u001b[0m \u001b[32m━━━━━━━━━━━━━━━━━━━━\u001b[0m\u001b[37m\u001b[0m \u001b[1m7s\u001b[0m 31ms/step - accuracy: 0.9623 - loss: 0.1037 - val_accuracy: 0.9307 - val_loss: 0.1766 - learning_rate: 1.5625e-05\n",
      "Epoch 39/50\n",
      "\u001b[1m225/226\u001b[0m \u001b[32m━━━━━━━━━━━━━━━━━━━\u001b[0m\u001b[37m━\u001b[0m \u001b[1m0s\u001b[0m 30ms/step - accuracy: 0.9593 - loss: 0.1076\n",
      "Epoch 39: val_loss did not improve from 0.17401\n",
      "\u001b[1m226/226\u001b[0m \u001b[32m━━━━━━━━━━━━━━━━━━━━\u001b[0m\u001b[37m\u001b[0m \u001b[1m7s\u001b[0m 31ms/step - accuracy: 0.9593 - loss: 0.1076 - val_accuracy: 0.9290 - val_loss: 0.1768 - learning_rate: 7.8125e-06\n",
      "Epoch 40/50\n",
      "\u001b[1m225/226\u001b[0m \u001b[32m━━━━━━━━━━━━━━━━━━━\u001b[0m\u001b[37m━\u001b[0m \u001b[1m0s\u001b[0m 30ms/step - accuracy: 0.9579 - loss: 0.1074\n",
      "Epoch 40: val_loss did not improve from 0.17401\n",
      "\u001b[1m226/226\u001b[0m \u001b[32m━━━━━━━━━━━━━━━━━━━━\u001b[0m\u001b[37m\u001b[0m \u001b[1m7s\u001b[0m 31ms/step - accuracy: 0.9579 - loss: 0.1073 - val_accuracy: 0.9307 - val_loss: 0.1776 - learning_rate: 7.8125e-06\n",
      "Epoch 41/50\n",
      "\u001b[1m225/226\u001b[0m \u001b[32m━━━━━━━━━━━━━━━━━━━\u001b[0m\u001b[37m━\u001b[0m \u001b[1m0s\u001b[0m 34ms/step - accuracy: 0.9552 - loss: 0.1087\n",
      "Epoch 41: val_loss did not improve from 0.17401\n",
      "\u001b[1m226/226\u001b[0m \u001b[32m━━━━━━━━━━━━━━━━━━━━\u001b[0m\u001b[37m\u001b[0m \u001b[1m8s\u001b[0m 35ms/step - accuracy: 0.9553 - loss: 0.1087 - val_accuracy: 0.9296 - val_loss: 0.1784 - learning_rate: 7.8125e-06\n",
      "Epoch 42/50\n",
      "\u001b[1m225/226\u001b[0m \u001b[32m━━━━━━━━━━━━━━━━━━━\u001b[0m\u001b[37m━\u001b[0m \u001b[1m0s\u001b[0m 37ms/step - accuracy: 0.9607 - loss: 0.1052\n",
      "Epoch 42: val_loss did not improve from 0.17401\n",
      "\u001b[1m226/226\u001b[0m \u001b[32m━━━━━━━━━━━━━━━━━━━━\u001b[0m\u001b[37m\u001b[0m \u001b[1m9s\u001b[0m 38ms/step - accuracy: 0.9607 - loss: 0.1052 - val_accuracy: 0.9290 - val_loss: 0.1777 - learning_rate: 3.9063e-06\n"
     ]
    },
    {
     "data": {
      "text/plain": [
       "<keras.src.callbacks.history.History at 0x29f3dbfcd40>"
      ]
     },
     "execution_count": 47,
     "metadata": {},
     "output_type": "execute_result"
    }
   ],
   "source": [
    "# from tensorflow.keras.callbacks import EarlyStopping\n",
    "\n",
    "# early_stop = EarlyStopping(monitor='val_loss', patience=5, restore_best_weights=True)\n",
    "\n",
    "# history = model.fit(\n",
    "#     X_train, y_train,\n",
    "#     validation_split=0.2,\n",
    "#     epochs=50,\n",
    "#     batch_size=64,\n",
    "#     class_weight=class_weights_dict,\n",
    "#     callbacks=[early_stop],\n",
    "#     verbose=1\n",
    "# )\n",
    "\n",
    "\n",
    "# from tensorflow.keras.callbacks import ReduceLROnPlateau, EarlyStopping\n",
    "\n",
    "# reduce_lr = ReduceLROnPlateau(monitor='val_loss', factor=0.5, patience=3, min_lr=1e-6)\n",
    "# early_stop = EarlyStopping(monitor='val_loss', patience=5, restore_best_weights=True)\n",
    "\n",
    "# model.fit(\n",
    "#     X_train, y_train,\n",
    "#     validation_split=0.2,\n",
    "#     epochs=50,\n",
    "#     batch_size=64,\n",
    "#     class_weight=class_weights_dict,\n",
    "#     callbacks=[reduce_lr, early_stop],\n",
    "#     verbose=1\n",
    "# )\n",
    "\n",
    "from tensorflow.keras.callbacks import EarlyStopping, ReduceLROnPlateau, ModelCheckpoint\n",
    "\n",
    "# from tensorflow.keras.utils import to_categorical\n",
    "\n",
    "# ----------------- Callbacks -----------------\n",
    "early_stop = EarlyStopping(monitor='val_loss', patience=10, restore_best_weights=True)\n",
    "reduce_lr = ReduceLROnPlateau(monitor='val_loss', factor=0.5, patience=3, min_lr=1e-6)\n",
    "checkpoint = ModelCheckpoint('best_model.h5', monitor='val_loss', save_best_only=True, mode='min', verbose=1)\n",
    "\n",
    "# ----------------- Train Model -----------------\n",
    "model.fit(\n",
    "    X_train, y_train,\n",
    "    validation_data=(X_test, y_test),\n",
    "    epochs=50,\n",
    "    batch_size=32,\n",
    "    callbacks=[early_stop, reduce_lr, checkpoint]\n",
    ")\n",
    "\n",
    "\n",
    "\n",
    "\n",
    "\n"
   ]
  },
  {
   "cell_type": "code",
   "execution_count": 48,
   "id": "6e736e1b-48d1-4b31-bb13-6fc69cbc6457",
   "metadata": {},
   "outputs": [
    {
     "name": "stdout",
     "output_type": "stream",
     "text": [
      "\u001b[1m57/57\u001b[0m \u001b[32m━━━━━━━━━━━━━━━━━━━━\u001b[0m\u001b[37m\u001b[0m \u001b[1m0s\u001b[0m 5ms/step - accuracy: 0.9370 - loss: 0.1684\n",
      "✅ Test Accuracy: 93.13%\n"
     ]
    }
   ],
   "source": [
    "loss, accuracy = model.evaluate(X_test, y_test)\n",
    "print(f\"✅ Test Accuracy: {accuracy * 100:.2f}%\")\n"
   ]
  },
  {
   "cell_type": "code",
   "execution_count": 49,
   "id": "8c9a9ec4-395d-4d18-86dc-74575e71a23d",
   "metadata": {},
   "outputs": [
    {
     "name": "stdout",
     "output_type": "stream",
     "text": [
      "\u001b[1m  1/226\u001b[0m \u001b[37m━━━━━━━━━━━━━━━━━━━━\u001b[0m \u001b[1m1:21\u001b[0m 361ms/step"
     ]
    },
    {
     "name": "stderr",
     "output_type": "stream",
     "text": [
      "C:\\Users\\Vishal Kumar Patel\\AppData\\Local\\Programs\\Python\\Python312\\Lib\\site-packages\\keras\\src\\ops\\nn.py:908: UserWarning: You are using a softmax over axis -1 of a tensor of shape (32, 1, 1). This axis has size 1. The softmax operation will always return the value 1, which is likely not what you intended. Did you mean to use a sigmoid instead?\n",
      "  warnings.warn(\n"
     ]
    },
    {
     "name": "stdout",
     "output_type": "stream",
     "text": [
      "\u001b[1m226/226\u001b[0m \u001b[32m━━━━━━━━━━━━━━━━━━━━\u001b[0m\u001b[37m\u001b[0m \u001b[1m1s\u001b[0m 5ms/step\n",
      "\u001b[1m57/57\u001b[0m \u001b[32m━━━━━━━━━━━━━━━━━━━━\u001b[0m\u001b[37m\u001b[0m \u001b[1m0s\u001b[0m 3ms/step\n"
     ]
    },
    {
     "data": {
      "image/png": "[encoded data removed]",
      "text/plain": [
       "<Figure size 640x480 with 2 Axes>"
      ]
     },
     "metadata": {},
     "output_type": "display_data"
    },
    {
     "data": {
      "image/png": "[encoded data removed]",
      "text/plain": [
       "<Figure size 640x480 with 2 Axes>"
      ]
     },
     "metadata": {},
     "output_type": "display_data"
    },
    {
     "name": "stdout",
     "output_type": "stream",
     "text": [
      "Classification Report (Test Data):\n",
      "              precision    recall  f1-score   support\n",
      "\n",
      "           0       0.93      0.93      0.93       904\n",
      "           1       0.93      0.93      0.93       900\n",
      "\n",
      "    accuracy                           0.93      1804\n",
      "   macro avg       0.93      0.93      0.93      1804\n",
      "weighted avg       0.93      0.93      0.93      1804\n",
      "\n"
     ]
    }
   ],
   "source": [
    "# predicted_test = model.predict(X_test)\n",
    "# predicted_train = model.predict(X_train)\n",
    "# predicted_class = []\n",
    "# for i in range(len(predicted_train)):\n",
    "#   predicted_class.append(np.argmax(predicted_train[i]))\n",
    "# predicted_class_index = []\n",
    "# for i in range(len(predicted_test)):\n",
    "#   predicted_class_index.append(np.argmax(predicted_test[i]))\n",
    "# rounded_test = np.argmax(y_test,axis=1)\n",
    "# rounded_train = np.argmax(y_train,axis=1)\n",
    "\n",
    "\n",
    "# confusion_matrix = metrics.confusion_matrix(rounded_train, predicted_class)\n",
    "\n",
    "# cm_display = metrics.ConfusionMatrixDisplay(confusion_matrix = confusion_matrix)\n",
    "\n",
    "# cm_display.plot()\n",
    "# plt.show()\n",
    "\n",
    "\n",
    "# confusion_matrix = metrics.confusion_matrix(rounded_test, predicted_class_index)\n",
    "\n",
    "# cm_display = metrics.ConfusionMatrixDisplay(confusion_matrix = confusion_matrix)\n",
    "\n",
    "# cm_display.plot()\n",
    "# plt.show()\n",
    "\n",
    "\n",
    "# print(classification_report(rounded_test, predicted_class_index))\n",
    "\n",
    "\n",
    "import matplotlib.pyplot as plt\n",
    "from sklearn.metrics import classification_report, confusion_matrix, ConfusionMatrixDisplay\n",
    "\n",
    "# Predict on train and test sets\n",
    "predicted_train = model.predict(X_train)\n",
    "predicted_test = model.predict(X_test)\n",
    "\n",
    "# Convert predictions to class indices\n",
    "predicted_train_classes = np.argmax(predicted_train, axis=1)\n",
    "predicted_test_classes = np.argmax(predicted_test, axis=1)\n",
    "\n",
    "# Convert one-hot encoded true labels to class indices\n",
    "true_train_classes = np.argmax(y_train, axis=1)\n",
    "true_test_classes = np.argmax(y_test, axis=1)\n",
    "\n",
    "# ----------------- Train Confusion Matrix -----------------\n",
    "cm_train = confusion_matrix(true_train_classes, predicted_train_classes)\n",
    "disp_train = ConfusionMatrixDisplay(confusion_matrix=cm_train)\n",
    "disp_train.plot()\n",
    "plt.title(\"Train Confusion Matrix\")\n",
    "plt.show()\n",
    "\n",
    "# ----------------- Test Confusion Matrix -----------------\n",
    "cm_test = confusion_matrix(true_test_classes, predicted_test_classes)\n",
    "disp_test = ConfusionMatrixDisplay(confusion_matrix=cm_test)\n",
    "disp_test.plot()\n",
    "plt.title(\"Test Confusion Matrix\")\n",
    "plt.show()\n",
    "\n",
    "# ----------------- Classification Report -----------------\n",
    "print(\"Classification Report (Test Data):\")\n",
    "print(classification_report(true_test_classes, predicted_test_classes))\n",
    "\n",
    "\n",
    "\n"
   ]
  },
  {
   "cell_type": "code",
   "execution_count": 50,
   "id": "b05875e2-3dc2-4583-902c-b6677b6f4567",
   "metadata": {},
   "outputs": [
    {
     "name": "stdout",
     "output_type": "stream",
     "text": [
      "\u001b[1m57/57\u001b[0m \u001b[32m━━━━━━━━━━━━━━━━━━━━\u001b[0m\u001b[37m\u001b[0m \u001b[1m0s\u001b[0m 5ms/step\n",
      "              precision    recall  f1-score   support\n",
      "\n",
      "woman_danger       0.93      0.93      0.93       904\n",
      "      normal       0.93      0.93      0.93       900\n",
      "\n",
      "    accuracy                           0.93      1804\n",
      "   macro avg       0.93      0.93      0.93      1804\n",
      "weighted avg       0.93      0.93      0.93      1804\n",
      "\n"
     ]
    }
   ],
   "source": [
    "from sklearn.metrics import classification_report\n",
    "\n",
    "y_pred = model.predict(X_test)\n",
    "y_pred_labels = np.argmax(y_pred, axis=1)\n",
    "y_true_labels = np.argmax(y_test, axis=1)\n",
    "\n",
    "print(classification_report(y_true_labels, y_pred_labels, target_names=['woman_danger', 'normal']))\n"
   ]
  },
  {
   "cell_type": "code",
   "execution_count": 53,
   "id": "83c058e8-4452-4c06-bc5f-ac2a1abdce06",
   "metadata": {},
   "outputs": [
    {
     "name": "stderr",
     "output_type": "stream",
     "text": [
      "WARNING:absl:You are saving your model as an HDF5 file via `model.save()` or `keras.saving.save_model(model)`. This file format is considered legacy. We recommend using instead the native Keras format, e.g. `model.save('my_model.keras')` or `keras.saving.save_model(model, 'my_model.keras')`. \n"
     ]
    }
   ],
   "source": [
    "model.save('final_best.h5')\n",
    "\n"
   ]
  },
  {
   "cell_type": "code",
   "execution_count": 73,
   "id": "aced2d9a-dd91-4af6-92b3-821613e78874",
   "metadata": {},
   "outputs": [
    {
     "name": "stdout",
     "output_type": "stream",
     "text": [
      "Creating model with the same architecture...\n",
      "Loading weights from saved model...\n",
      "✅ Model weights loaded successfully!\n",
      "\n",
      "Classifying audio file: C:\\Users\\Vishal Kumar Patel\\Desktop\\Yamnetmodelproject\\data\\test\\Normal\\112_3_right.wav\n",
      "Class: Normal, Probability: 0.0029\n",
      "Class: Danger, Probability: 0.9971\n",
      "\n",
      "The audio is classified as: Danger\n",
      "Confidence: 0.9971\n",
      "\n",
      "FINAL RESULT:\n",
      "Predicted: Danger with 99.71% confidence.\n"
     ]
    }
   ],
   "source": [
    "# import numpy as np\n",
    "# import tensorflow as tf\n",
    "# import librosa\n",
    "# import random\n",
    "# import tensorflow_hub as hub\n",
    "# from tensorflow.keras.models import load_model, Model\n",
    "# from tensorflow.keras.layers import Input, Dense, Dropout, LSTM, Bidirectional, BatchNormalization, Activation, Multiply, Flatten, Lambda\n",
    "# import tensorflow.keras.backend as K\n",
    "\n",
    "# # ----------------- Set seeds for reproducibility -----------------\n",
    "# np.random.seed(42)\n",
    "# tf.random.set_seed(42)\n",
    "# random.seed(42)\n",
    "\n",
    "# # ----------------- Custom Layers & Functions -----------------\n",
    "# class SumLayer(tf.keras.layers.Layer):\n",
    "#     def __init__(self, **kwargs):\n",
    "#         super(SumLayer, self).__init__(**kwargs)\n",
    "    \n",
    "#     def call(self, inputs):\n",
    "#         return K.sum(inputs, axis=1)\n",
    "    \n",
    "#     def compute_output_shape(self, input_shape):\n",
    "#         return (input_shape[0], input_shape[2])\n",
    "\n",
    "# def normalize_input(x):\n",
    "#     return (x / tf.reduce_max(x)) - tf.reduce_mean(x)\n",
    "\n",
    "# def attention_mechanism(inputs):\n",
    "#     attention_weights = Dense(1, activation='tanh')(inputs)\n",
    "#     attention_weights = Activation('softmax')(attention_weights)\n",
    "#     weighted_input = Multiply()([inputs, attention_weights])\n",
    "#     return SumLayer()(weighted_input)\n",
    "\n",
    "# # Define custom lambda layer with explicit output shape\n",
    "# def sum_layer_wrapper(x):\n",
    "#     return K.sum(x, axis=1)\n",
    "\n",
    "# def sum_layer_shape(input_shape):\n",
    "#     return (input_shape[0], input_shape[2])\n",
    "\n",
    "# def extract_yamnet_embedding(audio_path):\n",
    "#     yamnet_model = hub.load('https://tfhub.dev/google/yamnet/1')\n",
    "#     waveform, sr = librosa.load(audio_path, sr=16000)\n",
    "#     waveform = waveform[:sr * 10]  # Limit to 10 seconds\n",
    "#     waveform = tf.convert_to_tensor(waveform, dtype=tf.float32)\n",
    "#     _, embeddings, _ = yamnet_model(waveform)\n",
    "#     embedding_mean = tf.reduce_mean(embeddings, axis=0).numpy()\n",
    "    \n",
    "#     if embedding_mean.shape[0] < 1064:\n",
    "#         embedding_mean = np.pad(embedding_mean, (0, 1064 - embedding_mean.shape[0]), mode='constant')\n",
    "#     else:\n",
    "#         embedding_mean = embedding_mean[:1064]\n",
    "        \n",
    "#     return embedding_mean\n",
    "\n",
    "# def test_audio(file_path, model, classes):\n",
    "#     yamnet_embedding = extract_yamnet_embedding(file_path)\n",
    "#     input_data = np.expand_dims(np.expand_dims(yamnet_embedding, axis=0), axis=1)\n",
    "    \n",
    "#     try:\n",
    "#         predictions = model.predict(input_data, verbose=0)\n",
    "#     except Exception as e:\n",
    "#         print(f\"Error during prediction: {e}\")\n",
    "#         return None, None\n",
    "    \n",
    "#     class_probabilities = predictions[0]\n",
    "#     predicted_class_index = np.argmax(class_probabilities)\n",
    "    \n",
    "#     return class_probabilities, predicted_class_index\n",
    "\n",
    "# # ----------------- Main Execution -----------------\n",
    "# if __name__ == \"__main__\":\n",
    "#     classes = ['Normal', 'Danger']  # Class order\n",
    "\n",
    "#     # Define custom objects you used\n",
    "#     custom_objects = {\n",
    "#         'normalize_input': normalize_input,\n",
    "#         'SumLayer': SumLayer,\n",
    "#         'attention_mechanism': attention_mechanism,\n",
    "#         '<lambda>': Lambda(sum_layer_wrapper, output_shape=sum_layer_shape)\n",
    "#     }\n",
    "    \n",
    "#     try:\n",
    "#         # First try loading with compile=False\n",
    "#         print(\"Attempting to load model...\")\n",
    "#         model = tf.keras.models.load_model('final_best.h5', \n",
    "#                                           custom_objects=custom_objects, \n",
    "#                                           compile=False)\n",
    "#         print(\"✅ Model loaded successfully!\")\n",
    "#     except Exception as e:\n",
    "#         print(f\"Error loading model: {e}\")\n",
    "#         try:\n",
    "#             # Try alternative loading method\n",
    "#             print(\"Trying alternative loading method...\")\n",
    "#             model = tf.keras.models.load_model('final_best.h5', \n",
    "#                                               custom_objects=custom_objects, \n",
    "#                                               compile=False,\n",
    "#                                               options=tf.saved_model.LoadOptions(experimental_io_device='/job:localhost'))\n",
    "#             print(\"✅ Model loaded successfully with alternative method!\")\n",
    "#         except Exception as e2:\n",
    "#             print(f\"Both loading methods failed: {e2}\")\n",
    "#             print(\"Please make sure the model file exists and is not corrupted.\")\n",
    "#             exit(1)\n",
    "\n",
    "#     model.trainable = False\n",
    "#     # r'C:\\Users\\Vishal Kumar Patel\\Desktop\\Yamnetmodelproject\\data\\test\\Women\\121_11_patch.wav'\n",
    "#     test_audio_file = r'C:\\Users\\Vishal Kumar Patel\\Desktop\\Yamnetmodelproject\\data\\test\\Normal\\119_6_right.wav'\n",
    "#     print(f\"\\nClassifying audio file: {test_audio_file}\")\n",
    "    \n",
    "#     class_probabilities, predicted_class_index = test_audio(test_audio_file, model, classes)\n",
    "    \n",
    "#     if class_probabilities is not None and predicted_class_index is not None:\n",
    "#         for i, class_label in enumerate(classes):\n",
    "#             print(f'Class: {class_label}, Probability: {class_probabilities[i]:.4f}')\n",
    "#         print(f'\\nThe audio is classified as: {classes[predicted_class_index]}')\n",
    "#         print(f'Confidence: {class_probabilities[predicted_class_index]:.4f}')\n",
    "        \n",
    "#         # Final result\n",
    "#         print(\"\\nFINAL RESULT:\")\n",
    "#         print(f\"Predicted: {classes[predicted_class_index]} with {class_probabilities[predicted_class_index]:.2%} confidence.\")\n",
    "#     else:\n",
    "#         print(\"Prediction failed, no results to display.\")\n",
    "\n",
    "\n",
    "\n",
    "import numpy as np\n",
    "import tensorflow as tf\n",
    "import librosa\n",
    "import random\n",
    "import tensorflow_hub as hub\n",
    "from tensorflow.keras.models import load_model, Model\n",
    "from tensorflow.keras.layers import Input, Dense, Dropout, LSTM, Bidirectional, BatchNormalization, Activation, Multiply, Flatten, Lambda\n",
    "import tensorflow.keras.backend as K\n",
    "\n",
    "# ----------------- Set seeds for reproducibility -----------------\n",
    "np.random.seed(42)\n",
    "tf.random.set_seed(42)\n",
    "random.seed(42)\n",
    "\n",
    "# ----------------- Custom Layers & Functions -----------------\n",
    "class SumLayer(tf.keras.layers.Layer):\n",
    "    def __init__(self, **kwargs):\n",
    "        super(SumLayer, self).__init__(**kwargs)\n",
    "    \n",
    "    def call(self, inputs):\n",
    "        return K.sum(inputs, axis=1)\n",
    "    \n",
    "    def compute_output_shape(self, input_shape):\n",
    "        return (input_shape[0], input_shape[2])\n",
    "\n",
    "def normalize_input(x):\n",
    "    return (x / tf.reduce_max(x)) - tf.reduce_mean(x)\n",
    "\n",
    "# Fixed attention block with proper Lambda layer output shape\n",
    "def attention_block(inputs):\n",
    "    attention_weights = Dense(1, activation='tanh')(inputs)\n",
    "    attention_weights = Activation('softmax')(attention_weights)\n",
    "    weighted_input = Multiply()([inputs, attention_weights])\n",
    "    # Define proper output shape for Lambda layer\n",
    "    context_vector = Lambda(lambda x: K.sum(x, axis=1), \n",
    "                           output_shape=lambda input_shape: (input_shape[0], input_shape[2]))(weighted_input)\n",
    "    return context_vector\n",
    "\n",
    "def extract_yamnet_embedding(audio_path):\n",
    "    yamnet_model = hub.load('https://tfhub.dev/google/yamnet/1')\n",
    "    waveform, sr = librosa.load(audio_path, sr=16000)\n",
    "    waveform = waveform[:sr * 10]  # Limit to 10 seconds\n",
    "    waveform = tf.convert_to_tensor(waveform, dtype=tf.float32)\n",
    "    _, embeddings, _ = yamnet_model(waveform)\n",
    "    embedding_mean = tf.reduce_mean(embeddings, axis=0).numpy()\n",
    "    \n",
    "    if embedding_mean.shape[0] < 1064:\n",
    "        embedding_mean = np.pad(embedding_mean, (0, 1064 - embedding_mean.shape[0]), mode='constant')\n",
    "    else:\n",
    "        embedding_mean = embedding_mean[:1064]\n",
    "        \n",
    "    return embedding_mean\n",
    "\n",
    "def test_audio(file_path, model, classes):\n",
    "    yamnet_embedding = extract_yamnet_embedding(file_path)\n",
    "    input_data = np.expand_dims(np.expand_dims(yamnet_embedding, axis=0), axis=1)\n",
    "    \n",
    "    try:\n",
    "        predictions = model.predict(input_data, verbose=0)\n",
    "    except Exception as e:\n",
    "        print(f\"Error during prediction: {e}\")\n",
    "        return None, None\n",
    "    \n",
    "    class_probabilities = predictions[0]\n",
    "    predicted_class_index = np.argmax(class_probabilities)\n",
    "    \n",
    "    return class_probabilities, predicted_class_index\n",
    "\n",
    "# Recreate the model with the same architecture as your original model\n",
    "def create_model(input_shape=(1, 1064), num_classes=2):\n",
    "    input_layer = Input(shape=input_shape)\n",
    "    x = Bidirectional(LSTM(128, return_sequences=True))(input_layer)\n",
    "    x = BatchNormalization()(x)\n",
    "    x = Dropout(0.3)(x)\n",
    "    \n",
    "    # Using the fixed attention block\n",
    "    x = attention_block(x)\n",
    "    x = Flatten()(x)\n",
    "    x = Dense(128, activation='relu')(x)\n",
    "    x = BatchNormalization()(x)\n",
    "    x = Dropout(0.3)(x)\n",
    "    \n",
    "    output = Dense(num_classes, activation='softmax')(x)\n",
    "    \n",
    "    model = Model(inputs=input_layer, outputs=output)\n",
    "    model.compile(optimizer='adam', loss='categorical_crossentropy', metrics=['accuracy'])\n",
    "    \n",
    "    return model\n",
    "\n",
    "# ----------------- Main Execution -----------------\n",
    "if __name__ == \"__main__\":\n",
    "    classes = ['Normal', 'Danger']  # Class order\n",
    "\n",
    "    # Create a new model with the same architecture\n",
    "    print(\"Creating model with the same architecture...\")\n",
    "    model = create_model(input_shape=(1, 1064), num_classes=2)\n",
    "    \n",
    "    # Load weights from the saved model\n",
    "    try:\n",
    "        print(\"Loading weights from saved model...\")\n",
    "        model.load_weights('final_best.h5')\n",
    "        print(\"✅ Model weights loaded successfully!\")\n",
    "    except Exception as e:\n",
    "        print(f\"Error loading weights: {e}\")\n",
    "        print(\"Using untrained model - results will be random.\")\n",
    "    \n",
    "    model.trainable = False\n",
    "    \n",
    "    test_audio_file = r'C:\\Users\\Vishal Kumar Patel\\Desktop\\Yamnetmodelproject\\data\\test\\Normal\\112_3_right.wav'\n",
    "    print(f\"\\nClassifying audio file: {test_audio_file}\")\n",
    "    \n",
    "    class_probabilities, predicted_class_index = test_audio(test_audio_file, model, classes)\n",
    "    \n",
    "    if class_probabilities is not None and predicted_class_index is not None:\n",
    "        for i, class_label in enumerate(classes):\n",
    "            print(f'Class: {class_label}, Probability: {class_probabilities[i]:.4f}')\n",
    "        print(f'\\nThe audio is classified as: {classes[predicted_class_index]}')\n",
    "        print(f'Confidence: {class_probabilities[predicted_class_index]:.4f}')\n",
    "        \n",
    "        # Final result\n",
    "        print(\"\\nFINAL RESULT:\")\n",
    "        print(f\"Predicted: {classes[predicted_class_index]} with {class_probabilities[predicted_class_index]:.2%} confidence.\")\n",
    "    else:\n",
    "        print(\"Prediction failed, no results to display.\")"
   ]
  },
  {
   "cell_type": "code",
   "execution_count": null,
   "id": "f2aa688f-ac81-4163-8495-8da88eee5f72",
   "metadata": {},
   "outputs": [],
   "source": []
  }
 ],
 "metadata": {
  "kernelspec": {
   "display_name": "Python 3 (ipykernel)",
   "language": "python",
   "name": "python3"
  },
  "language_info": {
   "codemirror_mode": {
    "name": "ipython",
    "version": 3
   },
   "file_extension": ".py",
   "mimetype": "text/x-python",
   "name": "python",
   "nbconvert_exporter": "python",
   "pygments_lexer": "ipython3",
   "version": "3.12.0"
  }
 },
 "nbformat": 4,
 "nbformat_minor": 5
}
