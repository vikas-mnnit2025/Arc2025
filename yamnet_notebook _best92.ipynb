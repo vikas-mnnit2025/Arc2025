{
 "cells": [
  {
   "cell_type": "code",
   "execution_count": 1,
   "id": "af710b04-e459-4e90-8c07-aa5da7fb5e29",
   "metadata": {},
   "outputs": [
    {
     "name": "stdout",
     "output_type": "stream",
     "text": [
      "WARNING:tensorflow:From C:\\Users\\Vishal Kumar Patel\\AppData\\Local\\Programs\\Python\\Python312\\Lib\\site-packages\\tf_keras\\src\\losses.py:2976: The name tf.losses.sparse_softmax_cross_entropy is deprecated. Please use tf.compat.v1.losses.sparse_softmax_cross_entropy instead.\n",
      "\n"
     ]
    }
   ],
   "source": [
    "import numpy as np\n",
    "import tensorflow as tf\n",
    "import soundfile as sf\n",
    "import resampy\n",
    "import librosa\n",
    "import spec_augment\n",
    "import yamnet as yamnet_model\n",
    "import params as yamnet_params\n",
    "import os\n",
    "from sklearn.preprocessing import LabelEncoder\n",
    "from tqdm import tqdm\n",
    "from tensorflow.keras.utils import to_categorical\n",
    "from sklearn.model_selection import train_test_split\n",
    "# from tensorflow.keras.models import Model\n",
    "from tensorflow.keras.models import load_model\n",
    "import yamnet as yamnet_model\n",
    "import params as yamnet_params\n",
    "from sklearn.metrics import classification_report\n",
    "from sklearn import metrics\n",
    "import matplotlib.pyplot as plt\n",
    "from audiomentations import Compose, AddBackgroundNoise, TimeStretch, PitchShift, Shift, AddGaussianNoise\n",
    "import random"
   ]
  },
  {
   "cell_type": "code",
   "execution_count": 2,
   "id": "bbd3bb9f-247e-4333-b22a-d07d2c87737b",
   "metadata": {},
   "outputs": [],
   "source": [
    "def load_finetunable_yamnet():\n",
    "    params = yamnet_params.Params()\n",
    "    model = yamnet_model.yamnet_frames_model(params)\n",
    "    model.load_weights('yamnet.h5')  # download: https://storage.googleapis.com/audioset/yamnet.h5\n",
    "\n",
    "    for layer in model.layers[-10:]:\n",
    "        layer.trainable = True\n",
    "    return model\n"
   ]
  },
  {
   "cell_type": "code",
   "execution_count": 3,
   "id": "b78565ab-9f75-4b6e-996f-cbf36419d384",
   "metadata": {},
   "outputs": [],
   "source": [
    "# def augment_audio(audio, sr):\n",
    "#     if np.random.rand() < 0.5:\n",
    "#         audio = librosa.effects.pitch_shift(y=audio, sr=sr, n_steps=np.random.randint(-2, 3))\n",
    "#     if np.random.rand() < 0.5:\n",
    "#         audio = librosa.effects.time_stretch(y=audio, rate=np.random.uniform(0.8, 1.2))\n",
    "#     if np.random.rand() < 0.5:\n",
    "#         noise = 0.005 * np.random.randn(len(audio))\n",
    "#         audio = audio + noise\n",
    "#     return np.clip(audio, -1.0, 1.0)\n",
    "\n",
    "from audiomentations import Compose, AddGaussianNoise, TimeStretch, PitchShift, Shift, Gain\n",
    "\n",
    "augment = Compose([\n",
    "    AddGaussianNoise(min_amplitude=0.001, max_amplitude=0.015, p=0.5),\n",
    "    TimeStretch(min_rate=0.8, max_rate=1.2, p=0.5),\n",
    "    PitchShift(min_semitones=-4, max_semitones=4, p=0.5),\n",
    "    Shift(min_shift=-0.5, max_shift=0.5, p=0.5),\n",
    "    Gain(min_gain_db=-6, max_gain_db=6, p=0.5)\n",
    "])\n",
    "\n",
    "# from audiomentations import Compose, AddGaussianNoise, TimeStretch, PitchShift, Shift, Gain, ClippingDistortion, PolarityInversion\n",
    "\n",
    "# augment = Compose([\n",
    "#     AddGaussianNoise(min_amplitude=0.001, max_amplitude=0.015, p=0.5),\n",
    "#     TimeStretch(min_rate=0.85, max_rate=1.15, p=0.5),\n",
    "#     PitchShift(min_semitones=-3, max_semitones=3, p=0.5),\n",
    "#     Shift(min_shift=-0.2, max_shift=0.2, p=0.5),\n",
    "#     Gain(min_gain_db=-6, max_gain_db=6, p=0.5),\n",
    "#     ClippingDistortion(min_percentile_threshold=0, max_percentile_threshold=30, p=0.4),  # Random distortion\n",
    "#     PolarityInversion(p=0.3),  # Flip signal polarity\n",
    "# ])\n",
    "# Function to apply SpecAugment\n",
    "# def apply_specaugment(mel_spec):\n",
    "#     mel_spec = np.expand_dims(mel_spec, axis=0)  # Add batch dimension\n",
    "#     mel_spec = tf.convert_to_tensor(mel_spec, dtype=tf.float32)\n",
    "\n",
    "#     # Apply SpecAugment\n",
    "#     augmented_mel_spec = spec_augment.augment(mel_spec)\n",
    "\n",
    "#     return augmented_mel_spec.numpy().squeeze()  # Remove batch dimension\n",
    "\n",
    "def apply_specaugment(mel_spec, time_mask_param=10, freq_mask_param=8):\n",
    "    mel = mel_spec.copy()\n",
    "    num_mel_channels, num_time_steps = mel.shape\n",
    "\n",
    "    # Time mask\n",
    "    t = np.random.randint(0, time_mask_param)\n",
    "    t0 = np.random.randint(0, max(1, num_time_steps - t))\n",
    "    mel[:, t0:t0 + t] = 0\n",
    "\n",
    "    # Frequency mask\n",
    "    f = np.random.randint(0, freq_mask_param)\n",
    "    f0 = np.random.randint(0, max(1, num_mel_channels - f))\n",
    "    mel[f0:f0 + f, :] = 0\n",
    "\n",
    "    return mel\n",
    "\n",
    "\n",
    "def augment_audio(audio, sr):\n",
    "    audio = augment(samples=audio, sample_rate=sr)\n",
    "    return np.clip(audio, -1.0, 1.0)\n"
   ]
  },
  {
   "cell_type": "code",
   "execution_count": 4,
   "id": "87ec7184-e93f-4fcb-b9d8-efba53a562b1",
   "metadata": {},
   "outputs": [],
   "source": [
    "# def extract_features_finetuned(yamnet, audio_path, sample_rate=16000):\n",
    "#     # try:\n",
    "#         y, sr = librosa.load(audio_path, sr=sample_rate)\n",
    "#         y = augment_audio(y, sr)  # <—— AUGMENTED HERE\n",
    "\n",
    "#         waveform = tf.convert_to_tensor(y, dtype=tf.float32)\n",
    "#         waveform = tf.reshape(waveform, [-1])\n",
    "\n",
    "#         _, embeddings, _ = yamnet(waveform)\n",
    "#         avg_embedding = tf.reduce_mean(embeddings, axis=0).numpy()  # (1024,)\n",
    "\n",
    "#         mel_spec = librosa.feature.melspectrogram(y=y, sr=sr, n_mels=40)\n",
    "#         mel_spec_db = librosa.power_to_db(mel_spec, ref=np.max)\n",
    "#         mel_spec_flat = np.mean(mel_spec_db, axis=1)  # (40,)\n",
    "\n",
    "#         return np.concatenate([avg_embedding, mel_spec_flat])  # (1064,)\n",
    "def extract_features_finetuned(yamnet, audio_path, sample_rate=16000, use_specaugment=True):\n",
    "    y, sr = librosa.load(audio_path, sr=sample_rate)\n",
    "    y = augment_audio(y, sr)  # Apply other augmentations like time stretch, pitch shift\n",
    "\n",
    "    waveform = tf.convert_to_tensor(y, dtype=tf.float32)\n",
    "    waveform = tf.reshape(waveform, [-1])\n",
    "\n",
    "    # Get YAMNet embeddings\n",
    "    _, embeddings, _ = yamnet(waveform)\n",
    "    avg_embedding = tf.reduce_mean(embeddings, axis=0).numpy()  # (1024,)\n",
    "\n",
    "    # Create Mel-spectrogram\n",
    "    mel_spec = librosa.feature.melspectrogram(y=y, sr=sr, n_mels=40)\n",
    "    mel_spec_db = librosa.power_to_db(mel_spec, ref=np.max)\n",
    "\n",
    "    # Apply SpecAugment during training (not for validation/test)\n",
    "    if use_specaugment:\n",
    "        mel_spec_db = apply_specaugment(mel_spec_db)\n",
    "\n",
    "    mel_spec_flat = np.mean(mel_spec_db, axis=1)  # (40,)\n",
    "    \n",
    "    return np.concatenate([avg_embedding, mel_spec_flat])  # Concatenate YAMNet embeddings with Mel-spectrogram features\n"
   ]
  },
  {
   "cell_type": "code",
   "execution_count": 5,
   "id": "e7f00f1a-5c3e-48ba-841c-9f47b8c9a199",
   "metadata": {},
   "outputs": [],
   "source": [
    "def extract_features_from_folder(base_path):\n",
    "    X, y = [], []\n",
    "    yamnet = load_finetunable_yamnet()\n",
    "\n",
    "    label_encoder = LabelEncoder()\n",
    "    all_labels = sorted(os.listdir(base_path))  # e.g., ['child_danger', 'normal', 'woman_danger']\n",
    "    label_encoder.fit(all_labels)\n",
    "\n",
    "    for label in tqdm(all_labels, desc=\"Processing folders\"):\n",
    "        folder_path = os.path.join(base_path, label)\n",
    "        for file in os.listdir(folder_path):\n",
    "            if file.endswith(\".wav\"):\n",
    "                file_path = os.path.join(folder_path, file)\n",
    "                features = extract_features_finetuned(yamnet, file_path)\n",
    "                # features = extract_features_finetuned(yamnet, file_path, augment_audio=True)\n",
    "                if features is not None:\n",
    "                    X.append(features)\n",
    "                    y.append(label)\n",
    "\n",
    "    X = np.array(X)\n",
    "    y = label_encoder.transform(y)\n",
    "    return X, y, label_encoder\n"
   ]
  },
  {
   "cell_type": "code",
   "execution_count": null,
   "id": "c0effaca-acc4-4f44-81df-567f5584ace2",
   "metadata": {},
   "outputs": [
    {
     "name": "stdout",
     "output_type": "stream",
     "text": [
      "WARNING:tensorflow:From C:\\Users\\Vishal Kumar Patel\\AppData\\Local\\Programs\\Python\\Python312\\Lib\\site-packages\\tf_keras\\src\\backend.py:1400: The name tf.executing_eagerly_outside_functions is deprecated. Please use tf.compat.v1.executing_eagerly_outside_functions instead.\n",
      "\n",
      "WARNING:tensorflow:From C:\\Users\\Vishal Kumar Patel\\AppData\\Local\\Programs\\Python\\Python312\\Lib\\site-packages\\tf_keras\\src\\layers\\normalization\\batch_normalization.py:979: The name tf.nn.fused_batch_norm is deprecated. Please use tf.compat.v1.nn.fused_batch_norm instead.\n",
      "\n"
     ]
    },
    {
     "name": "stderr",
     "output_type": "stream",
     "text": [
      "Processing folders:   0%|                                                                        | 0/2 [00:00<?, ?it/s]"
     ]
    }
   ],
   "source": [
    "X, y, label_encoder = extract_features_from_folder(r'C:\\Users\\Vishal Kumar Patel\\Desktop\\Yamnetmodelproject\\data\\train')\n",
    "print(\"Feature shape:\", X.shape)\n",
    "print(\"Label shape:\", y.shape)\n",
    "print(\"Classes:\", label_encoder.classes_) \n",
    "np.save(\"X_embeddings_augmented.npy\", X)\n",
    "np.save(\"y_labels_augmented.npy\", y)"
   ]
  },
  {
   "cell_type": "code",
   "execution_count": 6,
   "id": "070e0c83-fd57-4695-bf47-7efeada7c9eb",
   "metadata": {},
   "outputs": [],
   "source": [
    "\n",
    "# Load embeddings and labels from saved files\n",
    "X = np.load(\"X_embeddings_augmented.npy\")  # shape: (n_samples, 1024)\n",
    "y = np.load(\"y_labels_augmented.npy\")      # shape: (n_samples,)\n"
   ]
  },
  {
   "cell_type": "code",
   "execution_count": 18,
   "id": "37e6889f-d103-4902-82e7-1fcbdad37d27",
   "metadata": {},
   "outputs": [
    {
     "data": {
      "text/html": [
       "<pre style=\"white-space:pre;overflow-x:auto;line-height:normal;font-family:Menlo,'DejaVu Sans Mono',consolas,'Courier New',monospace\"><span style=\"font-weight: bold\">Model: \"functional_3\"</span>\n",
       "</pre>\n"
      ],
      "text/plain": [
       "\u001b[1mModel: \"functional_3\"\u001b[0m\n"
      ]
     },
     "metadata": {},
     "output_type": "display_data"
    },
    {
     "data": {
      "text/html": [
       "<pre style=\"white-space:pre;overflow-x:auto;line-height:normal;font-family:Menlo,'DejaVu Sans Mono',consolas,'Courier New',monospace\">┏━━━━━━━━━━━━━━━━━━━━━━━━━━━━━━━┳━━━━━━━━━━━━━━━━━━━━━━━━━━━┳━━━━━━━━━━━━━━━━━┳━━━━━━━━━━━━━━━━━━━━━━━━━━━━┓\n",
       "┃<span style=\"font-weight: bold\"> Layer (type)                  </span>┃<span style=\"font-weight: bold\"> Output Shape              </span>┃<span style=\"font-weight: bold\">         Param # </span>┃<span style=\"font-weight: bold\"> Connected to               </span>┃\n",
       "┡━━━━━━━━━━━━━━━━━━━━━━━━━━━━━━━╇━━━━━━━━━━━━━━━━━━━━━━━━━━━╇━━━━━━━━━━━━━━━━━╇━━━━━━━━━━━━━━━━━━━━━━━━━━━━┩\n",
       "│ input_layer_3 (<span style=\"color: #0087ff; text-decoration-color: #0087ff\">InputLayer</span>)    │ (<span style=\"color: #00d7ff; text-decoration-color: #00d7ff\">None</span>, <span style=\"color: #00af00; text-decoration-color: #00af00\">1</span>, <span style=\"color: #00af00; text-decoration-color: #00af00\">1064</span>)           │               <span style=\"color: #00af00; text-decoration-color: #00af00\">0</span> │ -                          │\n",
       "├───────────────────────────────┼───────────────────────────┼─────────────────┼────────────────────────────┤\n",
       "│ bidirectional_3               │ (<span style=\"color: #00d7ff; text-decoration-color: #00d7ff\">None</span>, <span style=\"color: #00af00; text-decoration-color: #00af00\">1</span>, <span style=\"color: #00af00; text-decoration-color: #00af00\">256</span>)            │       <span style=\"color: #00af00; text-decoration-color: #00af00\">1,221,632</span> │ input_layer_3[<span style=\"color: #00af00; text-decoration-color: #00af00\">0</span>][<span style=\"color: #00af00; text-decoration-color: #00af00\">0</span>]        │\n",
       "│ (<span style=\"color: #0087ff; text-decoration-color: #0087ff\">Bidirectional</span>)               │                           │                 │                            │\n",
       "├───────────────────────────────┼───────────────────────────┼─────────────────┼────────────────────────────┤\n",
       "│ batch_normalization_6         │ (<span style=\"color: #00d7ff; text-decoration-color: #00d7ff\">None</span>, <span style=\"color: #00af00; text-decoration-color: #00af00\">1</span>, <span style=\"color: #00af00; text-decoration-color: #00af00\">256</span>)            │           <span style=\"color: #00af00; text-decoration-color: #00af00\">1,024</span> │ bidirectional_3[<span style=\"color: #00af00; text-decoration-color: #00af00\">0</span>][<span style=\"color: #00af00; text-decoration-color: #00af00\">0</span>]      │\n",
       "│ (<span style=\"color: #0087ff; text-decoration-color: #0087ff\">BatchNormalization</span>)          │                           │                 │                            │\n",
       "├───────────────────────────────┼───────────────────────────┼─────────────────┼────────────────────────────┤\n",
       "│ dropout_6 (<span style=\"color: #0087ff; text-decoration-color: #0087ff\">Dropout</span>)           │ (<span style=\"color: #00d7ff; text-decoration-color: #00d7ff\">None</span>, <span style=\"color: #00af00; text-decoration-color: #00af00\">1</span>, <span style=\"color: #00af00; text-decoration-color: #00af00\">256</span>)            │               <span style=\"color: #00af00; text-decoration-color: #00af00\">0</span> │ batch_normalization_6[<span style=\"color: #00af00; text-decoration-color: #00af00\">0</span>][<span style=\"color: #00af00; text-decoration-color: #00af00\">…</span> │\n",
       "├───────────────────────────────┼───────────────────────────┼─────────────────┼────────────────────────────┤\n",
       "│ dense_9 (<span style=\"color: #0087ff; text-decoration-color: #0087ff\">Dense</span>)               │ (<span style=\"color: #00d7ff; text-decoration-color: #00d7ff\">None</span>, <span style=\"color: #00af00; text-decoration-color: #00af00\">1</span>, <span style=\"color: #00af00; text-decoration-color: #00af00\">1</span>)              │             <span style=\"color: #00af00; text-decoration-color: #00af00\">257</span> │ dropout_6[<span style=\"color: #00af00; text-decoration-color: #00af00\">0</span>][<span style=\"color: #00af00; text-decoration-color: #00af00\">0</span>]            │\n",
       "├───────────────────────────────┼───────────────────────────┼─────────────────┼────────────────────────────┤\n",
       "│ activation_3 (<span style=\"color: #0087ff; text-decoration-color: #0087ff\">Activation</span>)     │ (<span style=\"color: #00d7ff; text-decoration-color: #00d7ff\">None</span>, <span style=\"color: #00af00; text-decoration-color: #00af00\">1</span>, <span style=\"color: #00af00; text-decoration-color: #00af00\">1</span>)              │               <span style=\"color: #00af00; text-decoration-color: #00af00\">0</span> │ dense_9[<span style=\"color: #00af00; text-decoration-color: #00af00\">0</span>][<span style=\"color: #00af00; text-decoration-color: #00af00\">0</span>]              │\n",
       "├───────────────────────────────┼───────────────────────────┼─────────────────┼────────────────────────────┤\n",
       "│ multiply_3 (<span style=\"color: #0087ff; text-decoration-color: #0087ff\">Multiply</span>)         │ (<span style=\"color: #00d7ff; text-decoration-color: #00d7ff\">None</span>, <span style=\"color: #00af00; text-decoration-color: #00af00\">1</span>, <span style=\"color: #00af00; text-decoration-color: #00af00\">256</span>)            │               <span style=\"color: #00af00; text-decoration-color: #00af00\">0</span> │ dropout_6[<span style=\"color: #00af00; text-decoration-color: #00af00\">0</span>][<span style=\"color: #00af00; text-decoration-color: #00af00\">0</span>],           │\n",
       "│                               │                           │                 │ activation_3[<span style=\"color: #00af00; text-decoration-color: #00af00\">0</span>][<span style=\"color: #00af00; text-decoration-color: #00af00\">0</span>]         │\n",
       "├───────────────────────────────┼───────────────────────────┼─────────────────┼────────────────────────────┤\n",
       "│ lambda_3 (<span style=\"color: #0087ff; text-decoration-color: #0087ff\">Lambda</span>)             │ (<span style=\"color: #00d7ff; text-decoration-color: #00d7ff\">None</span>, <span style=\"color: #00af00; text-decoration-color: #00af00\">256</span>)               │               <span style=\"color: #00af00; text-decoration-color: #00af00\">0</span> │ multiply_3[<span style=\"color: #00af00; text-decoration-color: #00af00\">0</span>][<span style=\"color: #00af00; text-decoration-color: #00af00\">0</span>]           │\n",
       "├───────────────────────────────┼───────────────────────────┼─────────────────┼────────────────────────────┤\n",
       "│ flatten_1 (<span style=\"color: #0087ff; text-decoration-color: #0087ff\">Flatten</span>)           │ (<span style=\"color: #00d7ff; text-decoration-color: #00d7ff\">None</span>, <span style=\"color: #00af00; text-decoration-color: #00af00\">256</span>)               │               <span style=\"color: #00af00; text-decoration-color: #00af00\">0</span> │ lambda_3[<span style=\"color: #00af00; text-decoration-color: #00af00\">0</span>][<span style=\"color: #00af00; text-decoration-color: #00af00\">0</span>]             │\n",
       "├───────────────────────────────┼───────────────────────────┼─────────────────┼────────────────────────────┤\n",
       "│ dense_10 (<span style=\"color: #0087ff; text-decoration-color: #0087ff\">Dense</span>)              │ (<span style=\"color: #00d7ff; text-decoration-color: #00d7ff\">None</span>, <span style=\"color: #00af00; text-decoration-color: #00af00\">128</span>)               │          <span style=\"color: #00af00; text-decoration-color: #00af00\">32,896</span> │ flatten_1[<span style=\"color: #00af00; text-decoration-color: #00af00\">0</span>][<span style=\"color: #00af00; text-decoration-color: #00af00\">0</span>]            │\n",
       "├───────────────────────────────┼───────────────────────────┼─────────────────┼────────────────────────────┤\n",
       "│ batch_normalization_7         │ (<span style=\"color: #00d7ff; text-decoration-color: #00d7ff\">None</span>, <span style=\"color: #00af00; text-decoration-color: #00af00\">128</span>)               │             <span style=\"color: #00af00; text-decoration-color: #00af00\">512</span> │ dense_10[<span style=\"color: #00af00; text-decoration-color: #00af00\">0</span>][<span style=\"color: #00af00; text-decoration-color: #00af00\">0</span>]             │\n",
       "│ (<span style=\"color: #0087ff; text-decoration-color: #0087ff\">BatchNormalization</span>)          │                           │                 │                            │\n",
       "├───────────────────────────────┼───────────────────────────┼─────────────────┼────────────────────────────┤\n",
       "│ dropout_7 (<span style=\"color: #0087ff; text-decoration-color: #0087ff\">Dropout</span>)           │ (<span style=\"color: #00d7ff; text-decoration-color: #00d7ff\">None</span>, <span style=\"color: #00af00; text-decoration-color: #00af00\">128</span>)               │               <span style=\"color: #00af00; text-decoration-color: #00af00\">0</span> │ batch_normalization_7[<span style=\"color: #00af00; text-decoration-color: #00af00\">0</span>][<span style=\"color: #00af00; text-decoration-color: #00af00\">…</span> │\n",
       "├───────────────────────────────┼───────────────────────────┼─────────────────┼────────────────────────────┤\n",
       "│ dense_11 (<span style=\"color: #0087ff; text-decoration-color: #0087ff\">Dense</span>)              │ (<span style=\"color: #00d7ff; text-decoration-color: #00d7ff\">None</span>, <span style=\"color: #00af00; text-decoration-color: #00af00\">2</span>)                 │             <span style=\"color: #00af00; text-decoration-color: #00af00\">258</span> │ dropout_7[<span style=\"color: #00af00; text-decoration-color: #00af00\">0</span>][<span style=\"color: #00af00; text-decoration-color: #00af00\">0</span>]            │\n",
       "└───────────────────────────────┴───────────────────────────┴─────────────────┴────────────────────────────┘\n",
       "</pre>\n"
      ],
      "text/plain": [
       "┏━━━━━━━━━━━━━━━━━━━━━━━━━━━━━━━┳━━━━━━━━━━━━━━━━━━━━━━━━━━━┳━━━━━━━━━━━━━━━━━┳━━━━━━━━━━━━━━━━━━━━━━━━━━━━┓\n",
       "┃\u001b[1m \u001b[0m\u001b[1mLayer (type)                 \u001b[0m\u001b[1m \u001b[0m┃\u001b[1m \u001b[0m\u001b[1mOutput Shape             \u001b[0m\u001b[1m \u001b[0m┃\u001b[1m \u001b[0m\u001b[1m        Param #\u001b[0m\u001b[1m \u001b[0m┃\u001b[1m \u001b[0m\u001b[1mConnected to              \u001b[0m\u001b[1m \u001b[0m┃\n",
       "┡━━━━━━━━━━━━━━━━━━━━━━━━━━━━━━━╇━━━━━━━━━━━━━━━━━━━━━━━━━━━╇━━━━━━━━━━━━━━━━━╇━━━━━━━━━━━━━━━━━━━━━━━━━━━━┩\n",
       "│ input_layer_3 (\u001b[38;5;33mInputLayer\u001b[0m)    │ (\u001b[38;5;45mNone\u001b[0m, \u001b[38;5;34m1\u001b[0m, \u001b[38;5;34m1064\u001b[0m)           │               \u001b[38;5;34m0\u001b[0m │ -                          │\n",
       "├───────────────────────────────┼───────────────────────────┼─────────────────┼────────────────────────────┤\n",
       "│ bidirectional_3               │ (\u001b[38;5;45mNone\u001b[0m, \u001b[38;5;34m1\u001b[0m, \u001b[38;5;34m256\u001b[0m)            │       \u001b[38;5;34m1,221,632\u001b[0m │ input_layer_3[\u001b[38;5;34m0\u001b[0m][\u001b[38;5;34m0\u001b[0m]        │\n",
       "│ (\u001b[38;5;33mBidirectional\u001b[0m)               │                           │                 │                            │\n",
       "├───────────────────────────────┼───────────────────────────┼─────────────────┼────────────────────────────┤\n",
       "│ batch_normalization_6         │ (\u001b[38;5;45mNone\u001b[0m, \u001b[38;5;34m1\u001b[0m, \u001b[38;5;34m256\u001b[0m)            │           \u001b[38;5;34m1,024\u001b[0m │ bidirectional_3[\u001b[38;5;34m0\u001b[0m][\u001b[38;5;34m0\u001b[0m]      │\n",
       "│ (\u001b[38;5;33mBatchNormalization\u001b[0m)          │                           │                 │                            │\n",
       "├───────────────────────────────┼───────────────────────────┼─────────────────┼────────────────────────────┤\n",
       "│ dropout_6 (\u001b[38;5;33mDropout\u001b[0m)           │ (\u001b[38;5;45mNone\u001b[0m, \u001b[38;5;34m1\u001b[0m, \u001b[38;5;34m256\u001b[0m)            │               \u001b[38;5;34m0\u001b[0m │ batch_normalization_6[\u001b[38;5;34m0\u001b[0m][\u001b[38;5;34m…\u001b[0m │\n",
       "├───────────────────────────────┼───────────────────────────┼─────────────────┼────────────────────────────┤\n",
       "│ dense_9 (\u001b[38;5;33mDense\u001b[0m)               │ (\u001b[38;5;45mNone\u001b[0m, \u001b[38;5;34m1\u001b[0m, \u001b[38;5;34m1\u001b[0m)              │             \u001b[38;5;34m257\u001b[0m │ dropout_6[\u001b[38;5;34m0\u001b[0m][\u001b[38;5;34m0\u001b[0m]            │\n",
       "├───────────────────────────────┼───────────────────────────┼─────────────────┼────────────────────────────┤\n",
       "│ activation_3 (\u001b[38;5;33mActivation\u001b[0m)     │ (\u001b[38;5;45mNone\u001b[0m, \u001b[38;5;34m1\u001b[0m, \u001b[38;5;34m1\u001b[0m)              │               \u001b[38;5;34m0\u001b[0m │ dense_9[\u001b[38;5;34m0\u001b[0m][\u001b[38;5;34m0\u001b[0m]              │\n",
       "├───────────────────────────────┼───────────────────────────┼─────────────────┼────────────────────────────┤\n",
       "│ multiply_3 (\u001b[38;5;33mMultiply\u001b[0m)         │ (\u001b[38;5;45mNone\u001b[0m, \u001b[38;5;34m1\u001b[0m, \u001b[38;5;34m256\u001b[0m)            │               \u001b[38;5;34m0\u001b[0m │ dropout_6[\u001b[38;5;34m0\u001b[0m][\u001b[38;5;34m0\u001b[0m],           │\n",
       "│                               │                           │                 │ activation_3[\u001b[38;5;34m0\u001b[0m][\u001b[38;5;34m0\u001b[0m]         │\n",
       "├───────────────────────────────┼───────────────────────────┼─────────────────┼────────────────────────────┤\n",
       "│ lambda_3 (\u001b[38;5;33mLambda\u001b[0m)             │ (\u001b[38;5;45mNone\u001b[0m, \u001b[38;5;34m256\u001b[0m)               │               \u001b[38;5;34m0\u001b[0m │ multiply_3[\u001b[38;5;34m0\u001b[0m][\u001b[38;5;34m0\u001b[0m]           │\n",
       "├───────────────────────────────┼───────────────────────────┼─────────────────┼────────────────────────────┤\n",
       "│ flatten_1 (\u001b[38;5;33mFlatten\u001b[0m)           │ (\u001b[38;5;45mNone\u001b[0m, \u001b[38;5;34m256\u001b[0m)               │               \u001b[38;5;34m0\u001b[0m │ lambda_3[\u001b[38;5;34m0\u001b[0m][\u001b[38;5;34m0\u001b[0m]             │\n",
       "├───────────────────────────────┼───────────────────────────┼─────────────────┼────────────────────────────┤\n",
       "│ dense_10 (\u001b[38;5;33mDense\u001b[0m)              │ (\u001b[38;5;45mNone\u001b[0m, \u001b[38;5;34m128\u001b[0m)               │          \u001b[38;5;34m32,896\u001b[0m │ flatten_1[\u001b[38;5;34m0\u001b[0m][\u001b[38;5;34m0\u001b[0m]            │\n",
       "├───────────────────────────────┼───────────────────────────┼─────────────────┼────────────────────────────┤\n",
       "│ batch_normalization_7         │ (\u001b[38;5;45mNone\u001b[0m, \u001b[38;5;34m128\u001b[0m)               │             \u001b[38;5;34m512\u001b[0m │ dense_10[\u001b[38;5;34m0\u001b[0m][\u001b[38;5;34m0\u001b[0m]             │\n",
       "│ (\u001b[38;5;33mBatchNormalization\u001b[0m)          │                           │                 │                            │\n",
       "├───────────────────────────────┼───────────────────────────┼─────────────────┼────────────────────────────┤\n",
       "│ dropout_7 (\u001b[38;5;33mDropout\u001b[0m)           │ (\u001b[38;5;45mNone\u001b[0m, \u001b[38;5;34m128\u001b[0m)               │               \u001b[38;5;34m0\u001b[0m │ batch_normalization_7[\u001b[38;5;34m0\u001b[0m][\u001b[38;5;34m…\u001b[0m │\n",
       "├───────────────────────────────┼───────────────────────────┼─────────────────┼────────────────────────────┤\n",
       "│ dense_11 (\u001b[38;5;33mDense\u001b[0m)              │ (\u001b[38;5;45mNone\u001b[0m, \u001b[38;5;34m2\u001b[0m)                 │             \u001b[38;5;34m258\u001b[0m │ dropout_7[\u001b[38;5;34m0\u001b[0m][\u001b[38;5;34m0\u001b[0m]            │\n",
       "└───────────────────────────────┴───────────────────────────┴─────────────────┴────────────────────────────┘\n"
      ]
     },
     "metadata": {},
     "output_type": "display_data"
    },
    {
     "data": {
      "text/html": [
       "<pre style=\"white-space:pre;overflow-x:auto;line-height:normal;font-family:Menlo,'DejaVu Sans Mono',consolas,'Courier New',monospace\"><span style=\"font-weight: bold\"> Total params: </span><span style=\"color: #00af00; text-decoration-color: #00af00\">1,256,579</span> (4.79 MB)\n",
       "</pre>\n"
      ],
      "text/plain": [
       "\u001b[1m Total params: \u001b[0m\u001b[38;5;34m1,256,579\u001b[0m (4.79 MB)\n"
      ]
     },
     "metadata": {},
     "output_type": "display_data"
    },
    {
     "data": {
      "text/html": [
       "<pre style=\"white-space:pre;overflow-x:auto;line-height:normal;font-family:Menlo,'DejaVu Sans Mono',consolas,'Courier New',monospace\"><span style=\"font-weight: bold\"> Trainable params: </span><span style=\"color: #00af00; text-decoration-color: #00af00\">1,255,811</span> (4.79 MB)\n",
       "</pre>\n"
      ],
      "text/plain": [
       "\u001b[1m Trainable params: \u001b[0m\u001b[38;5;34m1,255,811\u001b[0m (4.79 MB)\n"
      ]
     },
     "metadata": {},
     "output_type": "display_data"
    },
    {
     "data": {
      "text/html": [
       "<pre style=\"white-space:pre;overflow-x:auto;line-height:normal;font-family:Menlo,'DejaVu Sans Mono',consolas,'Courier New',monospace\"><span style=\"font-weight: bold\"> Non-trainable params: </span><span style=\"color: #00af00; text-decoration-color: #00af00\">768</span> (3.00 KB)\n",
       "</pre>\n"
      ],
      "text/plain": [
       "\u001b[1m Non-trainable params: \u001b[0m\u001b[38;5;34m768\u001b[0m (3.00 KB)\n"
      ]
     },
     "metadata": {},
     "output_type": "display_data"
    }
   ],
   "source": [
    "import numpy as np\n",
    "from sklearn.model_selection import train_test_split\n",
    "from sklearn.utils.class_weight import compute_class_weight\n",
    "from sklearn import metrics\n",
    "from tensorflow.keras.utils import to_categorical\n",
    "import tensorflow as tf\n",
    "from tensorflow.keras.models import Model\n",
    "from tensorflow.keras.layers import Input, Dense, Dropout, LSTM, Bidirectional, BatchNormalization, Activation, Multiply, Flatten, Lambda\n",
    "import tensorflow.keras.backend as K\n",
    "\n",
    "# ----------------- Data Preprocessing -----------------\n",
    "\n",
    "# One-hot encode labels\n",
    "num_classes = len(np.unique(y))\n",
    "y_cat = to_categorical(y, num_classes)\n",
    "\n",
    "# Train-test split\n",
    "X_train, X_test, y_train, y_test = train_test_split(X, y_cat, test_size=0.2, stratify=y, random_state=42)\n",
    "\n",
    "# Reshape for BiLSTM [samples, time_steps=1, features]\n",
    "X_train = np.expand_dims(X_train, axis=1)\n",
    "X_test = np.expand_dims(X_test, axis=1)\n",
    "\n",
    "# Compute class weights\n",
    "class_weights = compute_class_weight(class_weight='balanced', classes=np.unique(y), y=np.argmax(y_cat, axis=1))\n",
    "class_weights_dict = dict(enumerate(class_weights))\n",
    "\n",
    "# ----------------- Attention Block -----------------\n",
    "def attention_block(inputs):\n",
    "    attention_weights = Dense(1, activation='tanh')(inputs)\n",
    "    attention_weights = Activation('softmax')(attention_weights)\n",
    "    weighted_input = Multiply()([inputs, attention_weights])\n",
    "    context_vector = Lambda(lambda x: K.sum(x, axis=1))(weighted_input)\n",
    "    # context_vector = Lambda(lambda x: K.sum(x, axis=1), output_shape=(inputs.shape[1],))(weighted_input)  \n",
    "    return context_vector\n",
    "\n",
    "# ----------------- Model Definition -----------------\n",
    "input_layer = Input(shape=(1, X.shape[1]))  # Define input shape\n",
    "x = Bidirectional(LSTM(128, return_sequences=True))(input_layer)\n",
    "x = BatchNormalization()(x)\n",
    "x = Dropout(0.3)(x)\n",
    "\n",
    "x = attention_block(x)\n",
    "x = Flatten()(x) \n",
    "x = Dense(128, activation='relu')(x)\n",
    "x = BatchNormalization()(x)\n",
    "x = Dropout(0.3)(x)\n",
    "\n",
    "output = Dense(num_classes, activation='softmax')(x)\n",
    "\n",
    "model = Model(inputs=input_layer, outputs=output)\n",
    "model.compile(optimizer='adam', loss='categorical_crossentropy', metrics=['accuracy'])\n",
    "\n",
    "# ----------------- Summary -----------------\n",
    "model.summary()\n",
    "\n",
    "\n",
    "\n",
    "# import tensorflow as tf\n",
    "# from tensorflow.keras.models import Model\n",
    "# from tensorflow.keras.layers import Input, Bidirectional, LSTM, Dense, Dropout, Layer, Flatten, Multiply, Permute\n",
    "# from tensorflow.keras.optimizers import Adam\n",
    "# from tensorflow.keras.callbacks import EarlyStopping, ReduceLROnPlateau, ModelCheckpoint\n",
    "\n",
    "\n",
    "\n",
    "# # One-hot encode labels\n",
    "# num_classes = len(np.unique(y))\n",
    "# y_cat = to_categorical(y, num_classes)\n",
    "\n",
    "# # Train-test split\n",
    "# X_train, X_test, y_train, y_test = train_test_split(X, y_cat, test_size=0.2, stratify=y, random_state=42)\n",
    "\n",
    "# # Reshape for BiLSTM [samples, time_steps=1, features]\n",
    "# X_train = np.expand_dims(X_train, axis=1)\n",
    "# X_test = np.expand_dims(X_test, axis=1)\n",
    "\n",
    "# # Compute class weights\n",
    "# class_weights = compute_class_weight(class_weight='balanced', classes=np.unique(y), y=np.argmax(y_cat, axis=1))\n",
    "# class_weights_dict = dict(enumerate(class_weights))\n",
    "\n",
    "# # ----------------- Attention Layer -----------------\n",
    "# class Attention(Layer):\n",
    "#     def __init__(self, **kwargs):\n",
    "#         super(Attention, self).__init__(**kwargs)\n",
    "\n",
    "#     def build(self, input_shape):\n",
    "#         self.W = self.add_weight(name='att_weight', shape=(input_shape[-1], 1),\n",
    "#                                  initializer='normal', trainable=True)\n",
    "#         self.b = self.add_weight(name='att_bias', shape=(input_shape[1], 1),\n",
    "#                                  initializer='zeros', trainable=True)\n",
    "#         super(Attention, self).build(input_shape)\n",
    "\n",
    "#     def call(self, x):\n",
    "#         e = tf.keras.backend.tanh(tf.keras.backend.dot(x, self.W) + self.b)\n",
    "#         a = tf.keras.backend.softmax(e, axis=1)\n",
    "#         output = x * a\n",
    "#         return tf.keras.backend.sum(output, axis=1)\n",
    "\n",
    "# # ----------------- Model Architecture -----------------\n",
    "# input_layer = Input(shape=(1, 1064))  # Input shape\n",
    "# x = tf.keras.layers.Reshape((1064, 1))(input_layer)  # Reshape for LSTM\n",
    "\n",
    "# x = Bidirectional(LSTM(128, return_sequences=True))(x)\n",
    "# x = Dropout(0.5)(x)\n",
    "# x = Attention()(x)\n",
    "\n",
    "# x = Dense(128, activation='relu')(x)\n",
    "# x = Dropout(0.5)(x)\n",
    "# output_layer = Dense(1, activation='sigmoid')(x)\n",
    "\n",
    "# model = Model(inputs=input_layer, outputs=output_layer)\n",
    "# model.compile(optimizer=Adam(learning_rate=1e-4), loss='binary_crossentropy', metrics=['accuracy'])\n",
    "\n",
    "# model.summary()\n",
    "\n"
   ]
  },
  {
   "cell_type": "code",
   "execution_count": 19,
   "id": "ce63f079-1999-40fb-9465-eee6b852d86b",
   "metadata": {},
   "outputs": [
    {
     "name": "stdout",
     "output_type": "stream",
     "text": [
      "Epoch 1/50\n"
     ]
    },
    {
     "name": "stderr",
     "output_type": "stream",
     "text": [
      "C:\\Users\\Vishal Kumar Patel\\AppData\\Local\\Programs\\Python\\Python312\\Lib\\site-packages\\keras\\src\\ops\\nn.py:908: UserWarning: You are using a softmax over axis -1 of a tensor of shape (None, 1, 1). This axis has size 1. The softmax operation will always return the value 1, which is likely not what you intended. Did you mean to use a sigmoid instead?\n",
      "  warnings.warn(\n"
     ]
    },
    {
     "name": "stdout",
     "output_type": "stream",
     "text": [
      "\u001b[1m225/226\u001b[0m \u001b[32m━━━━━━━━━━━━━━━━━━━\u001b[0m\u001b[37m━\u001b[0m \u001b[1m0s\u001b[0m 28ms/step - accuracy: 0.8210 - loss: 0.4785\n",
      "Epoch 1: val_loss improved from inf to 0.33801, saving model to best_model.h5\n"
     ]
    },
    {
     "name": "stderr",
     "output_type": "stream",
     "text": [
      "WARNING:absl:You are saving your model as an HDF5 file via `model.save()` or `keras.saving.save_model(model)`. This file format is considered legacy. We recommend using instead the native Keras format, e.g. `model.save('my_model.keras')` or `keras.saving.save_model(model, 'my_model.keras')`. \n"
     ]
    },
    {
     "name": "stdout",
     "output_type": "stream",
     "text": [
      "\u001b[1m226/226\u001b[0m \u001b[32m━━━━━━━━━━━━━━━━━━━━\u001b[0m\u001b[37m\u001b[0m \u001b[1m12s\u001b[0m 32ms/step - accuracy: 0.8213 - loss: 0.4777 - val_accuracy: 0.8659 - val_loss: 0.3380 - learning_rate: 0.0010\n",
      "Epoch 2/50\n",
      "\u001b[1m224/226\u001b[0m \u001b[32m━━━━━━━━━━━━━━━━━━━\u001b[0m\u001b[37m━\u001b[0m \u001b[1m0s\u001b[0m 24ms/step - accuracy: 0.8999 - loss: 0.2683\n",
      "Epoch 2: val_loss improved from 0.33801 to 0.30008, saving model to best_model.h5\n"
     ]
    },
    {
     "name": "stderr",
     "output_type": "stream",
     "text": [
      "WARNING:absl:You are saving your model as an HDF5 file via `model.save()` or `keras.saving.save_model(model)`. This file format is considered legacy. We recommend using instead the native Keras format, e.g. `model.save('my_model.keras')` or `keras.saving.save_model(model, 'my_model.keras')`. \n"
     ]
    },
    {
     "name": "stdout",
     "output_type": "stream",
     "text": [
      "\u001b[1m226/226\u001b[0m \u001b[32m━━━━━━━━━━━━━━━━━━━━\u001b[0m\u001b[37m\u001b[0m \u001b[1m6s\u001b[0m 25ms/step - accuracy: 0.8999 - loss: 0.2684 - val_accuracy: 0.8841 - val_loss: 0.3001 - learning_rate: 0.0010\n",
      "Epoch 3/50\n",
      "\u001b[1m224/226\u001b[0m \u001b[32m━━━━━━━━━━━━━━━━━━━\u001b[0m\u001b[37m━\u001b[0m \u001b[1m0s\u001b[0m 24ms/step - accuracy: 0.9026 - loss: 0.2486\n",
      "Epoch 3: val_loss improved from 0.30008 to 0.22833, saving model to best_model.h5\n"
     ]
    },
    {
     "name": "stderr",
     "output_type": "stream",
     "text": [
      "WARNING:absl:You are saving your model as an HDF5 file via `model.save()` or `keras.saving.save_model(model)`. This file format is considered legacy. We recommend using instead the native Keras format, e.g. `model.save('my_model.keras')` or `keras.saving.save_model(model, 'my_model.keras')`. \n"
     ]
    },
    {
     "name": "stdout",
     "output_type": "stream",
     "text": [
      "\u001b[1m226/226\u001b[0m \u001b[32m━━━━━━━━━━━━━━━━━━━━\u001b[0m\u001b[37m\u001b[0m \u001b[1m6s\u001b[0m 25ms/step - accuracy: 0.9027 - loss: 0.2485 - val_accuracy: 0.9124 - val_loss: 0.2283 - learning_rate: 0.0010\n",
      "Epoch 4/50\n",
      "\u001b[1m224/226\u001b[0m \u001b[32m━━━━━━━━━━━━━━━━━━━\u001b[0m\u001b[37m━\u001b[0m \u001b[1m0s\u001b[0m 24ms/step - accuracy: 0.9028 - loss: 0.2395\n",
      "Epoch 4: val_loss did not improve from 0.22833\n",
      "\u001b[1m226/226\u001b[0m \u001b[32m━━━━━━━━━━━━━━━━━━━━\u001b[0m\u001b[37m\u001b[0m \u001b[1m6s\u001b[0m 25ms/step - accuracy: 0.9028 - loss: 0.2394 - val_accuracy: 0.9035 - val_loss: 0.2445 - learning_rate: 0.0010\n",
      "Epoch 5/50\n",
      "\u001b[1m225/226\u001b[0m \u001b[32m━━━━━━━━━━━━━━━━━━━\u001b[0m\u001b[37m━\u001b[0m \u001b[1m0s\u001b[0m 27ms/step - accuracy: 0.9150 - loss: 0.2201\n",
      "Epoch 5: val_loss did not improve from 0.22833\n",
      "\u001b[1m226/226\u001b[0m \u001b[32m━━━━━━━━━━━━━━━━━━━━\u001b[0m\u001b[37m\u001b[0m \u001b[1m7s\u001b[0m 29ms/step - accuracy: 0.9150 - loss: 0.2202 - val_accuracy: 0.9024 - val_loss: 0.2365 - learning_rate: 0.0010\n",
      "Epoch 6/50\n",
      "\u001b[1m225/226\u001b[0m \u001b[32m━━━━━━━━━━━━━━━━━━━\u001b[0m\u001b[37m━\u001b[0m \u001b[1m0s\u001b[0m 26ms/step - accuracy: 0.9155 - loss: 0.2156\n",
      "Epoch 6: val_loss did not improve from 0.22833\n",
      "\u001b[1m226/226\u001b[0m \u001b[32m━━━━━━━━━━━━━━━━━━━━\u001b[0m\u001b[37m\u001b[0m \u001b[1m6s\u001b[0m 27ms/step - accuracy: 0.9155 - loss: 0.2156 - val_accuracy: 0.8875 - val_loss: 0.2820 - learning_rate: 0.0010\n",
      "Epoch 7/50\n",
      "\u001b[1m224/226\u001b[0m \u001b[32m━━━━━━━━━━━━━━━━━━━\u001b[0m\u001b[37m━\u001b[0m \u001b[1m0s\u001b[0m 23ms/step - accuracy: 0.9218 - loss: 0.2009\n",
      "Epoch 7: val_loss improved from 0.22833 to 0.22126, saving model to best_model.h5\n"
     ]
    },
    {
     "name": "stderr",
     "output_type": "stream",
     "text": [
      "WARNING:absl:You are saving your model as an HDF5 file via `model.save()` or `keras.saving.save_model(model)`. This file format is considered legacy. We recommend using instead the native Keras format, e.g. `model.save('my_model.keras')` or `keras.saving.save_model(model, 'my_model.keras')`. \n"
     ]
    },
    {
     "name": "stdout",
     "output_type": "stream",
     "text": [
      "\u001b[1m226/226\u001b[0m \u001b[32m━━━━━━━━━━━━━━━━━━━━\u001b[0m\u001b[37m\u001b[0m \u001b[1m6s\u001b[0m 24ms/step - accuracy: 0.9219 - loss: 0.2008 - val_accuracy: 0.9174 - val_loss: 0.2213 - learning_rate: 5.0000e-04\n",
      "Epoch 8/50\n",
      "\u001b[1m224/226\u001b[0m \u001b[32m━━━━━━━━━━━━━━━━━━━\u001b[0m\u001b[37m━\u001b[0m \u001b[1m0s\u001b[0m 23ms/step - accuracy: 0.9297 - loss: 0.1876\n",
      "Epoch 8: val_loss improved from 0.22126 to 0.19626, saving model to best_model.h5\n"
     ]
    },
    {
     "name": "stderr",
     "output_type": "stream",
     "text": [
      "WARNING:absl:You are saving your model as an HDF5 file via `model.save()` or `keras.saving.save_model(model)`. This file format is considered legacy. We recommend using instead the native Keras format, e.g. `model.save('my_model.keras')` or `keras.saving.save_model(model, 'my_model.keras')`. \n"
     ]
    },
    {
     "name": "stdout",
     "output_type": "stream",
     "text": [
      "\u001b[1m226/226\u001b[0m \u001b[32m━━━━━━━━━━━━━━━━━━━━\u001b[0m\u001b[37m\u001b[0m \u001b[1m6s\u001b[0m 25ms/step - accuracy: 0.9297 - loss: 0.1876 - val_accuracy: 0.9224 - val_loss: 0.1963 - learning_rate: 5.0000e-04\n",
      "Epoch 9/50\n",
      "\u001b[1m226/226\u001b[0m \u001b[32m━━━━━━━━━━━━━━━━━━━━\u001b[0m\u001b[37m\u001b[0m \u001b[1m0s\u001b[0m 23ms/step - accuracy: 0.9341 - loss: 0.1778\n",
      "Epoch 9: val_loss did not improve from 0.19626\n",
      "\u001b[1m226/226\u001b[0m \u001b[32m━━━━━━━━━━━━━━━━━━━━\u001b[0m\u001b[37m\u001b[0m \u001b[1m6s\u001b[0m 24ms/step - accuracy: 0.9341 - loss: 0.1778 - val_accuracy: 0.9163 - val_loss: 0.2122 - learning_rate: 5.0000e-04\n",
      "Epoch 10/50\n",
      "\u001b[1m224/226\u001b[0m \u001b[32m━━━━━━━━━━━━━━━━━━━\u001b[0m\u001b[37m━\u001b[0m \u001b[1m0s\u001b[0m 27ms/step - accuracy: 0.9258 - loss: 0.1907\n",
      "Epoch 10: val_loss improved from 0.19626 to 0.19007, saving model to best_model.h5\n"
     ]
    },
    {
     "name": "stderr",
     "output_type": "stream",
     "text": [
      "WARNING:absl:You are saving your model as an HDF5 file via `model.save()` or `keras.saving.save_model(model)`. This file format is considered legacy. We recommend using instead the native Keras format, e.g. `model.save('my_model.keras')` or `keras.saving.save_model(model, 'my_model.keras')`. \n"
     ]
    },
    {
     "name": "stdout",
     "output_type": "stream",
     "text": [
      "\u001b[1m226/226\u001b[0m \u001b[32m━━━━━━━━━━━━━━━━━━━━\u001b[0m\u001b[37m\u001b[0m \u001b[1m6s\u001b[0m 28ms/step - accuracy: 0.9258 - loss: 0.1906 - val_accuracy: 0.9257 - val_loss: 0.1901 - learning_rate: 5.0000e-04\n",
      "Epoch 11/50\n",
      "\u001b[1m225/226\u001b[0m \u001b[32m━━━━━━━━━━━━━━━━━━━\u001b[0m\u001b[37m━\u001b[0m \u001b[1m0s\u001b[0m 23ms/step - accuracy: 0.9277 - loss: 0.1830\n",
      "Epoch 11: val_loss did not improve from 0.19007\n",
      "\u001b[1m226/226\u001b[0m \u001b[32m━━━━━━━━━━━━━━━━━━━━\u001b[0m\u001b[37m\u001b[0m \u001b[1m6s\u001b[0m 24ms/step - accuracy: 0.9277 - loss: 0.1829 - val_accuracy: 0.8503 - val_loss: 0.3161 - learning_rate: 5.0000e-04\n",
      "Epoch 12/50\n",
      "\u001b[1m224/226\u001b[0m \u001b[32m━━━━━━━━━━━━━━━━━━━\u001b[0m\u001b[37m━\u001b[0m \u001b[1m0s\u001b[0m 25ms/step - accuracy: 0.9304 - loss: 0.1772\n",
      "Epoch 12: val_loss did not improve from 0.19007\n",
      "\u001b[1m226/226\u001b[0m \u001b[32m━━━━━━━━━━━━━━━━━━━━\u001b[0m\u001b[37m\u001b[0m \u001b[1m6s\u001b[0m 26ms/step - accuracy: 0.9304 - loss: 0.1772 - val_accuracy: 0.9174 - val_loss: 0.2195 - learning_rate: 5.0000e-04\n",
      "Epoch 13/50\n",
      "\u001b[1m224/226\u001b[0m \u001b[32m━━━━━━━━━━━━━━━━━━━\u001b[0m\u001b[37m━\u001b[0m \u001b[1m0s\u001b[0m 27ms/step - accuracy: 0.9336 - loss: 0.1628\n",
      "Epoch 13: val_loss improved from 0.19007 to 0.18641, saving model to best_model.h5\n"
     ]
    },
    {
     "name": "stderr",
     "output_type": "stream",
     "text": [
      "WARNING:absl:You are saving your model as an HDF5 file via `model.save()` or `keras.saving.save_model(model)`. This file format is considered legacy. We recommend using instead the native Keras format, e.g. `model.save('my_model.keras')` or `keras.saving.save_model(model, 'my_model.keras')`. \n"
     ]
    },
    {
     "name": "stdout",
     "output_type": "stream",
     "text": [
      "\u001b[1m226/226\u001b[0m \u001b[32m━━━━━━━━━━━━━━━━━━━━\u001b[0m\u001b[37m\u001b[0m \u001b[1m7s\u001b[0m 29ms/step - accuracy: 0.9336 - loss: 0.1629 - val_accuracy: 0.9224 - val_loss: 0.1864 - learning_rate: 5.0000e-04\n",
      "Epoch 14/50\n",
      "\u001b[1m225/226\u001b[0m \u001b[32m━━━━━━━━━━━━━━━━━━━\u001b[0m\u001b[37m━\u001b[0m \u001b[1m0s\u001b[0m 28ms/step - accuracy: 0.9433 - loss: 0.1506\n",
      "Epoch 14: val_loss did not improve from 0.18641\n",
      "\u001b[1m226/226\u001b[0m \u001b[32m━━━━━━━━━━━━━━━━━━━━\u001b[0m\u001b[37m\u001b[0m \u001b[1m7s\u001b[0m 29ms/step - accuracy: 0.9432 - loss: 0.1507 - val_accuracy: 0.9180 - val_loss: 0.1958 - learning_rate: 5.0000e-04\n",
      "Epoch 15/50\n",
      "\u001b[1m224/226\u001b[0m \u001b[32m━━━━━━━━━━━━━━━━━━━\u001b[0m\u001b[37m━\u001b[0m \u001b[1m0s\u001b[0m 24ms/step - accuracy: 0.9376 - loss: 0.1554\n",
      "Epoch 15: val_loss did not improve from 0.18641\n",
      "\u001b[1m226/226\u001b[0m \u001b[32m━━━━━━━━━━━━━━━━━━━━\u001b[0m\u001b[37m\u001b[0m \u001b[1m6s\u001b[0m 25ms/step - accuracy: 0.9376 - loss: 0.1555 - val_accuracy: 0.9180 - val_loss: 0.2006 - learning_rate: 5.0000e-04\n",
      "Epoch 16/50\n",
      "\u001b[1m225/226\u001b[0m \u001b[32m━━━━━━━━━━━━━━━━━━━\u001b[0m\u001b[37m━\u001b[0m \u001b[1m0s\u001b[0m 25ms/step - accuracy: 0.9369 - loss: 0.1658\n",
      "Epoch 16: val_loss improved from 0.18641 to 0.18535, saving model to best_model.h5\n"
     ]
    },
    {
     "name": "stderr",
     "output_type": "stream",
     "text": [
      "WARNING:absl:You are saving your model as an HDF5 file via `model.save()` or `keras.saving.save_model(model)`. This file format is considered legacy. We recommend using instead the native Keras format, e.g. `model.save('my_model.keras')` or `keras.saving.save_model(model, 'my_model.keras')`. \n"
     ]
    },
    {
     "name": "stdout",
     "output_type": "stream",
     "text": [
      "\u001b[1m226/226\u001b[0m \u001b[32m━━━━━━━━━━━━━━━━━━━━\u001b[0m\u001b[37m\u001b[0m \u001b[1m6s\u001b[0m 26ms/step - accuracy: 0.9368 - loss: 0.1658 - val_accuracy: 0.9241 - val_loss: 0.1854 - learning_rate: 5.0000e-04\n",
      "Epoch 17/50\n",
      "\u001b[1m226/226\u001b[0m \u001b[32m━━━━━━━━━━━━━━━━━━━━\u001b[0m\u001b[37m\u001b[0m \u001b[1m0s\u001b[0m 27ms/step - accuracy: 0.9324 - loss: 0.1676\n",
      "Epoch 17: val_loss did not improve from 0.18535\n",
      "\u001b[1m226/226\u001b[0m \u001b[32m━━━━━━━━━━━━━━━━━━━━\u001b[0m\u001b[37m\u001b[0m \u001b[1m6s\u001b[0m 29ms/step - accuracy: 0.9324 - loss: 0.1676 - val_accuracy: 0.9174 - val_loss: 0.2187 - learning_rate: 5.0000e-04\n",
      "Epoch 18/50\n",
      "\u001b[1m224/226\u001b[0m \u001b[32m━━━━━━━━━━━━━━━━━━━\u001b[0m\u001b[37m━\u001b[0m \u001b[1m0s\u001b[0m 24ms/step - accuracy: 0.9341 - loss: 0.1641\n",
      "Epoch 18: val_loss did not improve from 0.18535\n",
      "\u001b[1m226/226\u001b[0m \u001b[32m━━━━━━━━━━━━━━━━━━━━\u001b[0m\u001b[37m\u001b[0m \u001b[1m6s\u001b[0m 25ms/step - accuracy: 0.9341 - loss: 0.1641 - val_accuracy: 0.9180 - val_loss: 0.1984 - learning_rate: 5.0000e-04\n",
      "Epoch 19/50\n",
      "\u001b[1m226/226\u001b[0m \u001b[32m━━━━━━━━━━━━━━━━━━━━\u001b[0m\u001b[37m\u001b[0m \u001b[1m0s\u001b[0m 24ms/step - accuracy: 0.9354 - loss: 0.1652\n",
      "Epoch 19: val_loss did not improve from 0.18535\n",
      "\u001b[1m226/226\u001b[0m \u001b[32m━━━━━━━━━━━━━━━━━━━━\u001b[0m\u001b[37m\u001b[0m \u001b[1m6s\u001b[0m 26ms/step - accuracy: 0.9355 - loss: 0.1651 - val_accuracy: 0.9191 - val_loss: 0.1956 - learning_rate: 5.0000e-04\n",
      "Epoch 20/50\n",
      "\u001b[1m225/226\u001b[0m \u001b[32m━━━━━━━━━━━━━━━━━━━\u001b[0m\u001b[37m━\u001b[0m \u001b[1m0s\u001b[0m 23ms/step - accuracy: 0.9353 - loss: 0.1523\n",
      "Epoch 20: val_loss improved from 0.18535 to 0.17175, saving model to best_model.h5\n"
     ]
    },
    {
     "name": "stderr",
     "output_type": "stream",
     "text": [
      "WARNING:absl:You are saving your model as an HDF5 file via `model.save()` or `keras.saving.save_model(model)`. This file format is considered legacy. We recommend using instead the native Keras format, e.g. `model.save('my_model.keras')` or `keras.saving.save_model(model, 'my_model.keras')`. \n"
     ]
    },
    {
     "name": "stdout",
     "output_type": "stream",
     "text": [
      "\u001b[1m226/226\u001b[0m \u001b[32m━━━━━━━━━━━━━━━━━━━━\u001b[0m\u001b[37m\u001b[0m \u001b[1m6s\u001b[0m 25ms/step - accuracy: 0.9353 - loss: 0.1523 - val_accuracy: 0.9290 - val_loss: 0.1717 - learning_rate: 2.5000e-04\n",
      "Epoch 21/50\n",
      "\u001b[1m224/226\u001b[0m \u001b[32m━━━━━━━━━━━━━━━━━━━\u001b[0m\u001b[37m━\u001b[0m \u001b[1m0s\u001b[0m 24ms/step - accuracy: 0.9497 - loss: 0.1293\n",
      "Epoch 21: val_loss did not improve from 0.17175\n",
      "\u001b[1m226/226\u001b[0m \u001b[32m━━━━━━━━━━━━━━━━━━━━\u001b[0m\u001b[37m\u001b[0m \u001b[1m6s\u001b[0m 25ms/step - accuracy: 0.9496 - loss: 0.1294 - val_accuracy: 0.9235 - val_loss: 0.1930 - learning_rate: 2.5000e-04\n",
      "Epoch 22/50\n",
      "\u001b[1m225/226\u001b[0m \u001b[32m━━━━━━━━━━━━━━━━━━━\u001b[0m\u001b[37m━\u001b[0m \u001b[1m0s\u001b[0m 23ms/step - accuracy: 0.9443 - loss: 0.1374\n",
      "Epoch 22: val_loss did not improve from 0.17175\n",
      "\u001b[1m226/226\u001b[0m \u001b[32m━━━━━━━━━━━━━━━━━━━━\u001b[0m\u001b[37m\u001b[0m \u001b[1m6s\u001b[0m 24ms/step - accuracy: 0.9443 - loss: 0.1374 - val_accuracy: 0.9346 - val_loss: 0.1819 - learning_rate: 2.5000e-04\n",
      "Epoch 23/50\n",
      "\u001b[1m224/226\u001b[0m \u001b[32m━━━━━━━━━━━━━━━━━━━\u001b[0m\u001b[37m━\u001b[0m \u001b[1m0s\u001b[0m 24ms/step - accuracy: 0.9437 - loss: 0.1522\n",
      "Epoch 23: val_loss did not improve from 0.17175\n",
      "\u001b[1m226/226\u001b[0m \u001b[32m━━━━━━━━━━━━━━━━━━━━\u001b[0m\u001b[37m\u001b[0m \u001b[1m6s\u001b[0m 25ms/step - accuracy: 0.9436 - loss: 0.1521 - val_accuracy: 0.9279 - val_loss: 0.1797 - learning_rate: 2.5000e-04\n",
      "Epoch 24/50\n",
      "\u001b[1m226/226\u001b[0m \u001b[32m━━━━━━━━━━━━━━━━━━━━\u001b[0m\u001b[37m\u001b[0m \u001b[1m0s\u001b[0m 23ms/step - accuracy: 0.9509 - loss: 0.1321\n",
      "Epoch 24: val_loss did not improve from 0.17175\n",
      "\u001b[1m226/226\u001b[0m \u001b[32m━━━━━━━━━━━━━━━━━━━━\u001b[0m\u001b[37m\u001b[0m \u001b[1m6s\u001b[0m 25ms/step - accuracy: 0.9509 - loss: 0.1321 - val_accuracy: 0.9302 - val_loss: 0.1722 - learning_rate: 1.2500e-04\n",
      "Epoch 25/50\n",
      "\u001b[1m225/226\u001b[0m \u001b[32m━━━━━━━━━━━━━━━━━━━\u001b[0m\u001b[37m━\u001b[0m \u001b[1m0s\u001b[0m 25ms/step - accuracy: 0.9501 - loss: 0.1325\n",
      "Epoch 25: val_loss did not improve from 0.17175\n",
      "\u001b[1m226/226\u001b[0m \u001b[32m━━━━━━━━━━━━━━━━━━━━\u001b[0m\u001b[37m\u001b[0m \u001b[1m6s\u001b[0m 26ms/step - accuracy: 0.9501 - loss: 0.1325 - val_accuracy: 0.9279 - val_loss: 0.1769 - learning_rate: 1.2500e-04\n",
      "Epoch 26/50\n",
      "\u001b[1m225/226\u001b[0m \u001b[32m━━━━━━━━━━━━━━━━━━━\u001b[0m\u001b[37m━\u001b[0m \u001b[1m0s\u001b[0m 24ms/step - accuracy: 0.9561 - loss: 0.1202\n",
      "Epoch 26: val_loss improved from 0.17175 to 0.17160, saving model to best_model.h5\n"
     ]
    },
    {
     "name": "stderr",
     "output_type": "stream",
     "text": [
      "WARNING:absl:You are saving your model as an HDF5 file via `model.save()` or `keras.saving.save_model(model)`. This file format is considered legacy. We recommend using instead the native Keras format, e.g. `model.save('my_model.keras')` or `keras.saving.save_model(model, 'my_model.keras')`. \n"
     ]
    },
    {
     "name": "stdout",
     "output_type": "stream",
     "text": [
      "\u001b[1m226/226\u001b[0m \u001b[32m━━━━━━━━━━━━━━━━━━━━\u001b[0m\u001b[37m\u001b[0m \u001b[1m6s\u001b[0m 25ms/step - accuracy: 0.9560 - loss: 0.1203 - val_accuracy: 0.9340 - val_loss: 0.1716 - learning_rate: 1.2500e-04\n",
      "Epoch 27/50\n",
      "\u001b[1m224/226\u001b[0m \u001b[32m━━━━━━━━━━━━━━━━━━━\u001b[0m\u001b[37m━\u001b[0m \u001b[1m0s\u001b[0m 22ms/step - accuracy: 0.9425 - loss: 0.1317\n",
      "Epoch 27: val_loss improved from 0.17160 to 0.16883, saving model to best_model.h5\n"
     ]
    },
    {
     "name": "stderr",
     "output_type": "stream",
     "text": [
      "WARNING:absl:You are saving your model as an HDF5 file via `model.save()` or `keras.saving.save_model(model)`. This file format is considered legacy. We recommend using instead the native Keras format, e.g. `model.save('my_model.keras')` or `keras.saving.save_model(model, 'my_model.keras')`. \n"
     ]
    },
    {
     "name": "stdout",
     "output_type": "stream",
     "text": [
      "\u001b[1m226/226\u001b[0m \u001b[32m━━━━━━━━━━━━━━━━━━━━\u001b[0m\u001b[37m\u001b[0m \u001b[1m5s\u001b[0m 24ms/step - accuracy: 0.9426 - loss: 0.1317 - val_accuracy: 0.9285 - val_loss: 0.1688 - learning_rate: 1.2500e-04\n",
      "Epoch 28/50\n",
      "\u001b[1m225/226\u001b[0m \u001b[32m━━━━━━━━━━━━━━━━━━━\u001b[0m\u001b[37m━\u001b[0m \u001b[1m0s\u001b[0m 23ms/step - accuracy: 0.9418 - loss: 0.1423\n",
      "Epoch 28: val_loss did not improve from 0.16883\n",
      "\u001b[1m226/226\u001b[0m \u001b[32m━━━━━━━━━━━━━━━━━━━━\u001b[0m\u001b[37m\u001b[0m \u001b[1m5s\u001b[0m 24ms/step - accuracy: 0.9418 - loss: 0.1422 - val_accuracy: 0.9257 - val_loss: 0.1882 - learning_rate: 1.2500e-04\n",
      "Epoch 29/50\n",
      "\u001b[1m226/226\u001b[0m \u001b[32m━━━━━━━━━━━━━━━━━━━━\u001b[0m\u001b[37m\u001b[0m \u001b[1m0s\u001b[0m 27ms/step - accuracy: 0.9485 - loss: 0.1284\n",
      "Epoch 29: val_loss did not improve from 0.16883\n",
      "\u001b[1m226/226\u001b[0m \u001b[32m━━━━━━━━━━━━━━━━━━━━\u001b[0m\u001b[37m\u001b[0m \u001b[1m6s\u001b[0m 28ms/step - accuracy: 0.9485 - loss: 0.1284 - val_accuracy: 0.9224 - val_loss: 0.1930 - learning_rate: 1.2500e-04\n",
      "Epoch 30/50\n",
      "\u001b[1m224/226\u001b[0m \u001b[32m━━━━━━━━━━━━━━━━━━━\u001b[0m\u001b[37m━\u001b[0m \u001b[1m0s\u001b[0m 25ms/step - accuracy: 0.9558 - loss: 0.1161\n",
      "Epoch 30: val_loss did not improve from 0.16883\n",
      "\u001b[1m226/226\u001b[0m \u001b[32m━━━━━━━━━━━━━━━━━━━━\u001b[0m\u001b[37m\u001b[0m \u001b[1m6s\u001b[0m 26ms/step - accuracy: 0.9557 - loss: 0.1161 - val_accuracy: 0.9290 - val_loss: 0.1823 - learning_rate: 1.2500e-04\n",
      "Epoch 31/50\n",
      "\u001b[1m224/226\u001b[0m \u001b[32m━━━━━━━━━━━━━━━━━━━\u001b[0m\u001b[37m━\u001b[0m \u001b[1m0s\u001b[0m 24ms/step - accuracy: 0.9494 - loss: 0.1285\n",
      "Epoch 31: val_loss did not improve from 0.16883\n",
      "\u001b[1m226/226\u001b[0m \u001b[32m━━━━━━━━━━━━━━━━━━━━\u001b[0m\u001b[37m\u001b[0m \u001b[1m6s\u001b[0m 25ms/step - accuracy: 0.9494 - loss: 0.1285 - val_accuracy: 0.9329 - val_loss: 0.1736 - learning_rate: 6.2500e-05\n",
      "Epoch 32/50\n",
      "\u001b[1m225/226\u001b[0m \u001b[32m━━━━━━━━━━━━━━━━━━━\u001b[0m\u001b[37m━\u001b[0m \u001b[1m0s\u001b[0m 24ms/step - accuracy: 0.9562 - loss: 0.1155\n",
      "Epoch 32: val_loss did not improve from 0.16883\n",
      "\u001b[1m226/226\u001b[0m \u001b[32m━━━━━━━━━━━━━━━━━━━━\u001b[0m\u001b[37m\u001b[0m \u001b[1m6s\u001b[0m 25ms/step - accuracy: 0.9561 - loss: 0.1156 - val_accuracy: 0.9307 - val_loss: 0.1714 - learning_rate: 6.2500e-05\n",
      "Epoch 33/50\n",
      "\u001b[1m225/226\u001b[0m \u001b[32m━━━━━━━━━━━━━━━━━━━\u001b[0m\u001b[37m━\u001b[0m \u001b[1m0s\u001b[0m 24ms/step - accuracy: 0.9500 - loss: 0.1259\n",
      "Epoch 33: val_loss did not improve from 0.16883\n",
      "\u001b[1m226/226\u001b[0m \u001b[32m━━━━━━━━━━━━━━━━━━━━\u001b[0m\u001b[37m\u001b[0m \u001b[1m6s\u001b[0m 25ms/step - accuracy: 0.9500 - loss: 0.1258 - val_accuracy: 0.9302 - val_loss: 0.1706 - learning_rate: 6.2500e-05\n",
      "Epoch 34/50\n",
      "\u001b[1m225/226\u001b[0m \u001b[32m━━━━━━━━━━━━━━━━━━━\u001b[0m\u001b[37m━\u001b[0m \u001b[1m0s\u001b[0m 24ms/step - accuracy: 0.9619 - loss: 0.1067\n",
      "Epoch 34: val_loss improved from 0.16883 to 0.16864, saving model to best_model.h5\n"
     ]
    },
    {
     "name": "stderr",
     "output_type": "stream",
     "text": [
      "WARNING:absl:You are saving your model as an HDF5 file via `model.save()` or `keras.saving.save_model(model)`. This file format is considered legacy. We recommend using instead the native Keras format, e.g. `model.save('my_model.keras')` or `keras.saving.save_model(model, 'my_model.keras')`. \n"
     ]
    },
    {
     "name": "stdout",
     "output_type": "stream",
     "text": [
      "\u001b[1m226/226\u001b[0m \u001b[32m━━━━━━━━━━━━━━━━━━━━\u001b[0m\u001b[37m\u001b[0m \u001b[1m6s\u001b[0m 26ms/step - accuracy: 0.9618 - loss: 0.1068 - val_accuracy: 0.9307 - val_loss: 0.1686 - learning_rate: 3.1250e-05\n",
      "Epoch 35/50\n",
      "\u001b[1m225/226\u001b[0m \u001b[32m━━━━━━━━━━━━━━━━━━━\u001b[0m\u001b[37m━\u001b[0m \u001b[1m0s\u001b[0m 27ms/step - accuracy: 0.9557 - loss: 0.1145\n",
      "Epoch 35: val_loss did not improve from 0.16864\n",
      "\u001b[1m226/226\u001b[0m \u001b[32m━━━━━━━━━━━━━━━━━━━━\u001b[0m\u001b[37m\u001b[0m \u001b[1m6s\u001b[0m 28ms/step - accuracy: 0.9557 - loss: 0.1145 - val_accuracy: 0.9302 - val_loss: 0.1712 - learning_rate: 3.1250e-05\n",
      "Epoch 36/50\n",
      "\u001b[1m225/226\u001b[0m \u001b[32m━━━━━━━━━━━━━━━━━━━\u001b[0m\u001b[37m━\u001b[0m \u001b[1m0s\u001b[0m 24ms/step - accuracy: 0.9567 - loss: 0.1132\n",
      "Epoch 36: val_loss did not improve from 0.16864\n",
      "\u001b[1m226/226\u001b[0m \u001b[32m━━━━━━━━━━━━━━━━━━━━\u001b[0m\u001b[37m\u001b[0m \u001b[1m6s\u001b[0m 25ms/step - accuracy: 0.9567 - loss: 0.1131 - val_accuracy: 0.9296 - val_loss: 0.1714 - learning_rate: 3.1250e-05\n",
      "Epoch 37/50\n",
      "\u001b[1m226/226\u001b[0m \u001b[32m━━━━━━━━━━━━━━━━━━━━\u001b[0m\u001b[37m\u001b[0m \u001b[1m0s\u001b[0m 25ms/step - accuracy: 0.9578 - loss: 0.1084\n",
      "Epoch 37: val_loss did not improve from 0.16864\n",
      "\u001b[1m226/226\u001b[0m \u001b[32m━━━━━━━━━━━━━━━━━━━━\u001b[0m\u001b[37m\u001b[0m \u001b[1m6s\u001b[0m 26ms/step - accuracy: 0.9578 - loss: 0.1084 - val_accuracy: 0.9318 - val_loss: 0.1724 - learning_rate: 3.1250e-05\n",
      "Epoch 38/50\n",
      "\u001b[1m226/226\u001b[0m \u001b[32m━━━━━━━━━━━━━━━━━━━━\u001b[0m\u001b[37m\u001b[0m \u001b[1m0s\u001b[0m 23ms/step - accuracy: 0.9543 - loss: 0.1202\n",
      "Epoch 38: val_loss did not improve from 0.16864\n",
      "\u001b[1m226/226\u001b[0m \u001b[32m━━━━━━━━━━━━━━━━━━━━\u001b[0m\u001b[37m\u001b[0m \u001b[1m6s\u001b[0m 24ms/step - accuracy: 0.9542 - loss: 0.1203 - val_accuracy: 0.9324 - val_loss: 0.1725 - learning_rate: 1.5625e-05\n",
      "Epoch 39/50\n",
      "\u001b[1m224/226\u001b[0m \u001b[32m━━━━━━━━━━━━━━━━━━━\u001b[0m\u001b[37m━\u001b[0m \u001b[1m0s\u001b[0m 25ms/step - accuracy: 0.9532 - loss: 0.1146\n",
      "Epoch 39: val_loss did not improve from 0.16864\n",
      "\u001b[1m226/226\u001b[0m \u001b[32m━━━━━━━━━━━━━━━━━━━━\u001b[0m\u001b[37m\u001b[0m \u001b[1m6s\u001b[0m 26ms/step - accuracy: 0.9533 - loss: 0.1146 - val_accuracy: 0.9318 - val_loss: 0.1720 - learning_rate: 1.5625e-05\n",
      "Epoch 40/50\n",
      "\u001b[1m224/226\u001b[0m \u001b[32m━━━━━━━━━━━━━━━━━━━\u001b[0m\u001b[37m━\u001b[0m \u001b[1m0s\u001b[0m 24ms/step - accuracy: 0.9562 - loss: 0.1037\n",
      "Epoch 40: val_loss did not improve from 0.16864\n",
      "\u001b[1m226/226\u001b[0m \u001b[32m━━━━━━━━━━━━━━━━━━━━\u001b[0m\u001b[37m\u001b[0m \u001b[1m6s\u001b[0m 25ms/step - accuracy: 0.9561 - loss: 0.1038 - val_accuracy: 0.9313 - val_loss: 0.1708 - learning_rate: 1.5625e-05\n",
      "Epoch 41/50\n",
      "\u001b[1m225/226\u001b[0m \u001b[32m━━━━━━━━━━━━━━━━━━━\u001b[0m\u001b[37m━\u001b[0m \u001b[1m0s\u001b[0m 24ms/step - accuracy: 0.9543 - loss: 0.1156\n",
      "Epoch 41: val_loss did not improve from 0.16864\n",
      "\u001b[1m226/226\u001b[0m \u001b[32m━━━━━━━━━━━━━━━━━━━━\u001b[0m\u001b[37m\u001b[0m \u001b[1m6s\u001b[0m 25ms/step - accuracy: 0.9542 - loss: 0.1157 - val_accuracy: 0.9324 - val_loss: 0.1716 - learning_rate: 7.8125e-06\n",
      "Epoch 42/50\n",
      "\u001b[1m225/226\u001b[0m \u001b[32m━━━━━━━━━━━━━━━━━━━\u001b[0m\u001b[37m━\u001b[0m \u001b[1m0s\u001b[0m 25ms/step - accuracy: 0.9548 - loss: 0.1150\n",
      "Epoch 42: val_loss did not improve from 0.16864\n",
      "\u001b[1m226/226\u001b[0m \u001b[32m━━━━━━━━━━━━━━━━━━━━\u001b[0m\u001b[37m\u001b[0m \u001b[1m6s\u001b[0m 26ms/step - accuracy: 0.9548 - loss: 0.1150 - val_accuracy: 0.9313 - val_loss: 0.1716 - learning_rate: 7.8125e-06\n",
      "Epoch 43/50\n",
      "\u001b[1m225/226\u001b[0m \u001b[32m━━━━━━━━━━━━━━━━━━━\u001b[0m\u001b[37m━\u001b[0m \u001b[1m0s\u001b[0m 24ms/step - accuracy: 0.9562 - loss: 0.1181\n",
      "Epoch 43: val_loss did not improve from 0.16864\n",
      "\u001b[1m226/226\u001b[0m \u001b[32m━━━━━━━━━━━━━━━━━━━━\u001b[0m\u001b[37m\u001b[0m \u001b[1m6s\u001b[0m 25ms/step - accuracy: 0.9561 - loss: 0.1181 - val_accuracy: 0.9302 - val_loss: 0.1710 - learning_rate: 7.8125e-06\n",
      "Epoch 44/50\n",
      "\u001b[1m225/226\u001b[0m \u001b[32m━━━━━━━━━━━━━━━━━━━\u001b[0m\u001b[37m━\u001b[0m \u001b[1m0s\u001b[0m 25ms/step - accuracy: 0.9567 - loss: 0.1137\n",
      "Epoch 44: val_loss did not improve from 0.16864\n",
      "\u001b[1m226/226\u001b[0m \u001b[32m━━━━━━━━━━━━━━━━━━━━\u001b[0m\u001b[37m\u001b[0m \u001b[1m6s\u001b[0m 26ms/step - accuracy: 0.9567 - loss: 0.1137 - val_accuracy: 0.9302 - val_loss: 0.1709 - learning_rate: 3.9063e-06\n"
     ]
    },
    {
     "data": {
      "text/plain": [
       "<keras.src.callbacks.history.History at 0x2215adef680>"
      ]
     },
     "execution_count": 19,
     "metadata": {},
     "output_type": "execute_result"
    }
   ],
   "source": [
    "# from tensorflow.keras.callbacks import EarlyStopping\n",
    "\n",
    "# early_stop = EarlyStopping(monitor='val_loss', patience=5, restore_best_weights=True)\n",
    "\n",
    "# history = model.fit(\n",
    "#     X_train, y_train,\n",
    "#     validation_split=0.2,\n",
    "#     epochs=50,\n",
    "#     batch_size=64,\n",
    "#     class_weight=class_weights_dict,\n",
    "#     callbacks=[early_stop],\n",
    "#     verbose=1\n",
    "# )\n",
    "\n",
    "\n",
    "# from tensorflow.keras.callbacks import ReduceLROnPlateau, EarlyStopping\n",
    "\n",
    "# reduce_lr = ReduceLROnPlateau(monitor='val_loss', factor=0.5, patience=3, min_lr=1e-6)\n",
    "# early_stop = EarlyStopping(monitor='val_loss', patience=5, restore_best_weights=True)\n",
    "\n",
    "# model.fit(\n",
    "#     X_train, y_train,\n",
    "#     validation_split=0.2,\n",
    "#     epochs=50,\n",
    "#     batch_size=64,\n",
    "#     class_weight=class_weights_dict,\n",
    "#     callbacks=[reduce_lr, early_stop],\n",
    "#     verbose=1\n",
    "# )\n",
    "\n",
    "from tensorflow.keras.callbacks import EarlyStopping, ReduceLROnPlateau, ModelCheckpoint\n",
    "\n",
    "# from tensorflow.keras.utils import to_categorical\n",
    "\n",
    "# ----------------- Callbacks -----------------\n",
    "early_stop = EarlyStopping(monitor='val_loss', patience=10, restore_best_weights=True)\n",
    "reduce_lr = ReduceLROnPlateau(monitor='val_loss', factor=0.5, patience=3, min_lr=1e-6)\n",
    "checkpoint = ModelCheckpoint('best_model.h5', monitor='val_loss', save_best_only=True, mode='min', verbose=1)\n",
    "\n",
    "# ----------------- Train Model -----------------\n",
    "model.fit(\n",
    "    X_train, y_train,\n",
    "    validation_data=(X_test, y_test),\n",
    "    epochs=50,\n",
    "    batch_size=32,\n",
    "    callbacks=[early_stop, reduce_lr, checkpoint]\n",
    ")\n",
    "\n",
    "\n",
    "\n",
    "\n",
    "\n"
   ]
  },
  {
   "cell_type": "code",
   "execution_count": 20,
   "id": "6bfed68e-8894-4d71-8824-3201ab54e36d",
   "metadata": {},
   "outputs": [
    {
     "name": "stdout",
     "output_type": "stream",
     "text": [
      "\u001b[1m57/57\u001b[0m \u001b[32m━━━━━━━━━━━━━━━━━━━━\u001b[0m\u001b[37m\u001b[0m \u001b[1m0s\u001b[0m 4ms/step - accuracy: 0.9337 - loss: 0.1638\n",
      "✅ Test Accuracy: 93.07%\n"
     ]
    }
   ],
   "source": [
    "loss, accuracy = model.evaluate(X_test, y_test)\n",
    "print(f\"✅ Test Accuracy: {accuracy * 100:.2f}%\")\n"
   ]
  },
  {
   "cell_type": "code",
   "execution_count": 21,
   "id": "8c9a9ec4-395d-4d18-86dc-74575e71a23d",
   "metadata": {},
   "outputs": [
    {
     "name": "stdout",
     "output_type": "stream",
     "text": [
      "\u001b[1m 1/57\u001b[0m \u001b[37m━━━━━━━━━━━━━━━━━━━━\u001b[0m \u001b[1m23s\u001b[0m 418ms/step"
     ]
    },
    {
     "name": "stderr",
     "output_type": "stream",
     "text": [
      "C:\\Users\\Vishal Kumar Patel\\AppData\\Local\\Programs\\Python\\Python312\\Lib\\site-packages\\keras\\src\\ops\\nn.py:908: UserWarning: You are using a softmax over axis -1 of a tensor of shape (32, 1, 1). This axis has size 1. The softmax operation will always return the value 1, which is likely not what you intended. Did you mean to use a sigmoid instead?\n",
      "  warnings.warn(\n"
     ]
    },
    {
     "name": "stdout",
     "output_type": "stream",
     "text": [
      "\u001b[1m57/57\u001b[0m \u001b[32m━━━━━━━━━━━━━━━━━━━━\u001b[0m\u001b[37m\u001b[0m \u001b[1m1s\u001b[0m 11ms/step\n",
      "\u001b[1m226/226\u001b[0m \u001b[32m━━━━━━━━━━━━━━━━━━━━\u001b[0m\u001b[37m\u001b[0m \u001b[1m1s\u001b[0m 3ms/step\n"
     ]
    },
    {
     "data": {
      "image/png": "[encoded data removed]",
      "text/plain": [
       "<Figure size 640x480 with 2 Axes>"
      ]
     },
     "metadata": {},
     "output_type": "display_data"
    },
    {
     "data": {
      "image/png": "[encoded data removed]",
      "text/plain": [
       "<Figure size 640x480 with 2 Axes>"
      ]
     },
     "metadata": {},
     "output_type": "display_data"
    },
    {
     "name": "stdout",
     "output_type": "stream",
     "text": [
      "              precision    recall  f1-score   support\n",
      "\n",
      "           0       0.93      0.93      0.93       904\n",
      "           1       0.93      0.93      0.93       900\n",
      "\n",
      "    accuracy                           0.93      1804\n",
      "   macro avg       0.93      0.93      0.93      1804\n",
      "weighted avg       0.93      0.93      0.93      1804\n",
      "\n"
     ]
    }
   ],
   "source": [
    "predicted_test = model.predict(X_test)\n",
    "predicted_train = model.predict(X_train)\n",
    "predicted_class = []\n",
    "for i in range(len(predicted_train)):\n",
    "  predicted_class.append(np.argmax(predicted_train[i]))\n",
    "predicted_class_index = []\n",
    "for i in range(len(predicted_test)):\n",
    "  predicted_class_index.append(np.argmax(predicted_test[i]))\n",
    "rounded_test = np.argmax(y_test,axis=1)\n",
    "rounded_train = np.argmax(y_train,axis=1)\n",
    "\n",
    "\n",
    "confusion_matrix = metrics.confusion_matrix(rounded_train, predicted_class)\n",
    "\n",
    "cm_display = metrics.ConfusionMatrixDisplay(confusion_matrix = confusion_matrix)\n",
    "\n",
    "cm_display.plot()\n",
    "plt.show()\n",
    "\n",
    "\n",
    "confusion_matrix = metrics.confusion_matrix(rounded_test, predicted_class_index)\n",
    "\n",
    "cm_display = metrics.ConfusionMatrixDisplay(confusion_matrix = confusion_matrix)\n",
    "\n",
    "cm_display.plot()\n",
    "plt.show()\n",
    "\n",
    "\n",
    "print(classification_report(rounded_test, predicted_class_index))\n",
    "\n"
   ]
  },
  {
   "cell_type": "code",
   "execution_count": 22,
   "id": "b05875e2-3dc2-4583-902c-b6677b6f4567",
   "metadata": {},
   "outputs": [
    {
     "name": "stdout",
     "output_type": "stream",
     "text": [
      "\u001b[1m57/57\u001b[0m \u001b[32m━━━━━━━━━━━━━━━━━━━━\u001b[0m\u001b[37m\u001b[0m \u001b[1m0s\u001b[0m 3ms/step\n",
      "              precision    recall  f1-score   support\n",
      "\n",
      "woman_danger       0.93      0.93      0.93       904\n",
      "      normal       0.93      0.93      0.93       900\n",
      "\n",
      "    accuracy                           0.93      1804\n",
      "   macro avg       0.93      0.93      0.93      1804\n",
      "weighted avg       0.93      0.93      0.93      1804\n",
      "\n"
     ]
    }
   ],
   "source": [
    "from sklearn.metrics import classification_report\n",
    "\n",
    "y_pred = model.predict(X_test)\n",
    "y_pred_labels = np.argmax(y_pred, axis=1)\n",
    "y_true_labels = np.argmax(y_test, axis=1)\n",
    "\n",
    "print(classification_report(y_true_labels, y_pred_labels, target_names=['woman_danger', 'normal']))\n"
   ]
  },
  {
   "cell_type": "code",
   "execution_count": 23,
   "id": "83c058e8-4452-4c06-bc5f-ac2a1abdce06",
   "metadata": {},
   "outputs": [
    {
     "name": "stderr",
     "output_type": "stream",
     "text": [
      "WARNING:absl:You are saving your model as an HDF5 file via `model.save()` or `keras.saving.save_model(model)`. This file format is considered legacy. We recommend using instead the native Keras format, e.g. `model.save('my_model.keras')` or `keras.saving.save_model(model, 'my_model.keras')`. \n"
     ]
    }
   ],
   "source": [
    "model.save('final.h5')"
   ]
  },
  {
   "cell_type": "code",
   "execution_count": null,
   "id": "94adfaef-c8b5-4751-a043-c077f0b4033d",
   "metadata": {},
   "outputs": [],
   "source": []
  }
 ],
 "metadata": {
  "kernelspec": {
   "display_name": "Python 3 (ipykernel)",
   "language": "python",
   "name": "python3"
  },
  "language_info": {
   "codemirror_mode": {
    "name": "ipython",
    "version": 3
   },
   "file_extension": ".py",
   "mimetype": "text/x-python",
   "name": "python",
   "nbconvert_exporter": "python",
   "pygments_lexer": "ipython3",
   "version": "3.12.0"
  }
 },
 "nbformat": 4,
 "nbformat_minor": 5
}
